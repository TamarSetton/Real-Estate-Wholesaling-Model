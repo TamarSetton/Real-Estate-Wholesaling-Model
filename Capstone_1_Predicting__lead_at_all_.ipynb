{
  "cells": [
    {
      "cell_type": "code",
      "execution_count": null,
      "metadata": {
        "colab": {
          "base_uri": "https://localhost:8080/"
        },
        "id": "NRxR8FuDxomy",
        "outputId": "a0635aa8-4c22-4293-fc36-205b631ce64b"
      },
      "outputs": [
        {
          "name": "stdout",
          "output_type": "stream",
          "text": [
            "Requirement already satisfied: xgboost in /usr/local/lib/python3.10/dist-packages (2.0.3)\n",
            "Requirement already satisfied: numpy in /usr/local/lib/python3.10/dist-packages (from xgboost) (1.25.2)\n",
            "Requirement already satisfied: scipy in /usr/local/lib/python3.10/dist-packages (from xgboost) (1.11.4)\n"
          ]
        }
      ],
      "source": [
        "!sudo pip install xgboost"
      ]
    },
    {
      "cell_type": "code",
      "execution_count": null,
      "metadata": {
        "id": "pgKln8sJfMtX"
      },
      "outputs": [],
      "source": [
        "import pandas as pd\n",
        "from sklearn.model_selection import train_test_split\n",
        "import xgboost as xgb\n",
        "from sklearn.metrics import accuracy_score\n",
        "from xgboost import XGBClassifier\n",
        "from sklearn.metrics import confusion_matrix, accuracy_score, recall_score, precision_score\n",
        "import seaborn as sns\n",
        "import matplotlib.pyplot as plt"
      ]
    },
    {
      "cell_type": "code",
      "execution_count": null,
      "metadata": {
        "colab": {
          "base_uri": "https://localhost:8080/"
        },
        "id": "7QF58jZvCvcI",
        "outputId": "64cff133-2a3e-4ac3-8aed-1479a0da98d8"
      },
      "outputs": [
        {
          "output_type": "stream",
          "name": "stderr",
          "text": [
            "<ipython-input-6-9dcb9e1b1169>:2: DtypeWarning: Columns (3,4,6,7,8,12,25,26) have mixed types. Specify dtype option on import or set low_memory=False.\n",
            "  b = pd.read_csv('clean RE and raw df NO nulls.csv')\n"
          ]
        }
      ],
      "source": [
        "#load csv\n",
        "b = pd.read_csv('clean RE and raw df NO nulls.csv')"
      ]
    },
    {
      "cell_type": "code",
      "execution_count": null,
      "metadata": {
        "id": "2P_VVGOgiznp"
      },
      "outputs": [],
      "source": [
        "'''initial xgboost with RE and raw datas, predicting if will become any sort of lead. No duplication of rare classes and no feature engenearing.'''"
      ]
    },
    {
      "cell_type": "code",
      "execution_count": null,
      "metadata": {
        "colab": {
          "base_uri": "https://localhost:8080/",
          "height": 71
        },
        "id": "u2A9UyB8iq9X",
        "outputId": "6ef9f7b2-bd0c-4d1d-eb20-7dd43d0d7780"
      },
      "outputs": [
        {
          "data": {
            "application/vnd.google.colaboratory.intrinsic+json": {
              "type": "string"
            },
            "text/plain": [
              "\"\\npredicters: \\n'Property City', 'Property State', 'Property Zip', 'Mailing City', 'Mailing State', 'Mailing Zip'\\n'Bedroom', 'Bathroom', 'Apporx Sqft','Lot Size Sqft', 'Effective Year Built', 'House Type',\\n'Tax Assessed Value', 'Last Sold Price','same_address'\\n\\ntarget: \\n'Lead at all'\\n\""
            ]
          },
          "execution_count": 9,
          "metadata": {},
          "output_type": "execute_result"
        }
      ],
      "source": [
        "'''\n",
        "predicters:\n",
        "'Property City', 'Property State', 'Property Zip', 'Mailing City', 'Mailing State', 'Mailing Zip'\n",
        "'Bedroom', 'Bathroom', 'Apporx Sqft','Lot Size Sqft', 'Effective Year Built', 'House Type',\n",
        "'Tax Assessed Value', 'Last Sold Price','same_address'\n",
        "\n",
        "target:\n",
        "'Lead at all'\n",
        "'''"
      ]
    },
    {
      "cell_type": "code",
      "execution_count": null,
      "metadata": {
        "id": "XNsViMNvia5t",
        "colab": {
          "base_uri": "https://localhost:8080/"
        },
        "outputId": "2fbf4fd3-e298-4c47-febb-095cbab2db2b"
      },
      "outputs": [
        {
          "output_type": "execute_result",
          "data": {
            "text/plain": [
              "Index(['First Name', 'Last Name', 'Phone Area Code', 'Phone Number',\n",
              "       'Lead Status', 'score', 'Lead Quality', 'Lead Source', 'Campaign Name',\n",
              "       'Property Street Address', 'Property City', 'Property State',\n",
              "       'Property Zip', 'Mailing Street Address', 'Mailing City',\n",
              "       'Mailing State', 'Mailing Zip', 'Bedroom', 'Bathroom', 'Apporx Sqft',\n",
              "       'Lot Size Sqft', 'Effective Year Built', 'House Type',\n",
              "       'Tax Assessed Value', 'Last Sold Price', 'Lead Created Date',\n",
              "       'download_date', 'same_address'],\n",
              "      dtype='object')"
            ]
          },
          "metadata": {},
          "execution_count": 3
        }
      ],
      "source": [
        "b.columns"
      ]
    },
    {
      "cell_type": "code",
      "execution_count": null,
      "metadata": {
        "id": "XlDr4_cnkRx5"
      },
      "outputs": [],
      "source": [
        "#Use one hot encoding for categorical variables.\n",
        "\n",
        "# Separate encoding for each categorical variable\n",
        "encoded_property_city = pd.get_dummies(b['Property City'], prefix='Property_City')\n",
        "encoded_property_state = pd.get_dummies(b['Property State'], prefix='Property_State')\n",
        "encoded_property_zip = pd.get_dummies(b['Property Zip'].astype(str), prefix='Property_Zip')\n",
        "encoded_mailing_city = pd.get_dummies(b['Mailing City'], prefix='Mailing_City')\n",
        "encoded_mailing_state = pd.get_dummies(b['Mailing State'], prefix='Mailing_State')\n",
        "encoded_mailing_zip = pd.get_dummies(b['Mailing Zip'].astype(str), prefix='Mailing_Zip')\n",
        "encoded_house_type = pd.get_dummies(b['House Type'], prefix='House Type')\n",
        "encoded_same_address = pd.get_dummies(b['same_address'], prefix='same_address')\n",
        "# Combine all the encoded features into a single DataFrame\n",
        "b_features = pd.concat([\n",
        "    encoded_property_city,\n",
        "    encoded_property_state,\n",
        "    encoded_property_zip,\n",
        "    encoded_mailing_city,\n",
        "    encoded_mailing_state,\n",
        "    encoded_mailing_zip,\n",
        "    encoded_house_type,\n",
        "    encoded_same_address,\n",
        "    # b['Bedroom'],\n",
        "    # b['Bathroom'],\n",
        "    # b['Apporx Sqft'],\n",
        "    # b['Lot Size Sqft'],\n",
        "    # b['Effective Year Built'],\n",
        "    # b['Tax Assessed Value'],\n",
        "    # b['Last Sold Price'],\n",
        "], axis=1)"
      ]
    },
    {
      "cell_type": "code",
      "execution_count": null,
      "metadata": {
        "colab": {
          "base_uri": "https://localhost:8080/"
        },
        "id": "cttWQWl6nuIj",
        "outputId": "1b70eac8-6962-4ec8-a3be-78f8c0f42329"
      },
      "outputs": [
        {
          "output_type": "stream",
          "name": "stderr",
          "text": [
            "/usr/local/lib/python3.10/dist-packages/xgboost/sklearn.py:889: UserWarning: `eval_metric` in `fit` method is deprecated for better compatibility with scikit-learn, use `eval_metric` in constructor or`set_params` instead.\n",
            "  warnings.warn(\n"
          ]
        },
        {
          "output_type": "stream",
          "name": "stdout",
          "text": [
            "[0]\tvalidation_0-logloss:0.13150\tvalidation_0-error:0.00962\tvalidation_0-auc:0.99435\n",
            "[1]\tvalidation_0-logloss:0.11712\tvalidation_0-error:0.00962\tvalidation_0-auc:0.99441\n",
            "[2]\tvalidation_0-logloss:0.10489\tvalidation_0-error:0.00962\tvalidation_0-auc:0.99441\n",
            "[3]\tvalidation_0-logloss:0.09424\tvalidation_0-error:0.00962\tvalidation_0-auc:0.99479\n",
            "[4]\tvalidation_0-logloss:0.08484\tvalidation_0-error:0.00395\tvalidation_0-auc:0.99479\n",
            "[5]\tvalidation_0-logloss:0.07653\tvalidation_0-error:0.00091\tvalidation_0-auc:0.99480\n",
            "[6]\tvalidation_0-logloss:0.06913\tvalidation_0-error:0.00091\tvalidation_0-auc:0.99481\n",
            "[7]\tvalidation_0-logloss:0.06253\tvalidation_0-error:0.00091\tvalidation_0-auc:0.99481\n",
            "[8]\tvalidation_0-logloss:0.05663\tvalidation_0-error:0.00089\tvalidation_0-auc:0.99482\n",
            "[9]\tvalidation_0-logloss:0.05135\tvalidation_0-error:0.00089\tvalidation_0-auc:0.99482\n",
            "Accuracy: 0.999105449049154\n"
          ]
        }
      ],
      "source": [
        "# Separating features and target\n",
        "X = b_features\n",
        "y = b['Lead at all']\n",
        "\n",
        "# Splitting the data into training and testing sets\n",
        "X_train, X_test, y_train, y_test = train_test_split(X, y, test_size=0.5, random_state=42)\n",
        "\n",
        "# Training the model\n",
        "model = XGBClassifier(n_estimators=10, max_depth=5, learning_rate=0.1, objective= 'binary:logistic')\n",
        "model.fit(X_train, y_train, eval_set=[(X_test, y_test)],eval_metric=[\"logloss\", \"error\", \"auc\"],)\n",
        "\n",
        "\n",
        "# Making predictions\n",
        "y_pred = model.predict(X_test)\n",
        "\n",
        "# Evaluating the model\n",
        "accuracy = accuracy_score(y_test, y_pred)\n",
        "recall = recall_score(y_test, y_pred, average='binary')\n",
        "precision = precision_score(y_test, y_pred, average='binary')\n",
        "\n",
        "print(f\"Test Accuracy: {accuracy}\")\n",
        "print(f\"Test Recall: {recall}\")\n",
        "print(f\"Test Precision: {precision}\")"
      ]
    },
    {
      "cell_type": "code",
      "source": [
        "# Print evaluation results\n",
        "results = model.evals_result()\n",
        "for metric in results['validation_0']:\n",
        "    print(f\"{metric}:\", results['validation_0'][metric])"
      ],
      "metadata": {
        "colab": {
          "base_uri": "https://localhost:8080/"
        },
        "id": "ST-z4kO2VDFY",
        "outputId": "187836f7-fd49-45fc-a98f-37e018d4bd7f"
      },
      "execution_count": null,
      "outputs": [
        {
          "output_type": "stream",
          "name": "stdout",
          "text": [
            "logloss: [0.13149650640944158, 0.1171215412249451, 0.10489208160020341, 0.09423535479530895, 0.08484135463180877, 0.0765287778696006, 0.06912955579073253, 0.06253069117870984, 0.05662914755433811, 0.05134857325555724]\n",
            "error: [0.00962413436772213, 0.00962413436772213, 0.00962413436772213, 0.00962413436772213, 0.00394836281752703, 0.00090997424310193, 0.00090997424310193, 0.00090997424310193, 0.00089455095084597, 0.00089455095084597]\n",
            "auc: [0.9943534903068992, 0.9944055880529025, 0.9944054882248862, 0.9947892395980206, 0.9947892395980206, 0.9948010692179513, 0.9948087310182019, 0.9948084814481611, 0.994816592474485, 0.9948165176034728]\n"
          ]
        }
      ]
    },
    {
      "cell_type": "code",
      "source": [
        "cm = confusion_matrix(y_test, y_pred)\n",
        "print(\"Fig 1:\")\n",
        "print(cm)\n",
        "\n",
        "# Plot confusion matrix using seaborn\n",
        "plt.figure(figsize=(8, 6))\n",
        "sns.heatmap(cm, annot=True, fmt='d', cmap='Blues', xticklabels=['Predicted 0', 'Predicted 1'], yticklabels=['Actual 0', 'Actual 1'])\n",
        "plt.xlabel('Predicted')\n",
        "plt.ylabel('Actual')\n",
        "plt.title('Confusion Matrix')\n",
        "plt.show()"
      ],
      "metadata": {
        "colab": {
          "base_uri": "https://localhost:8080/",
          "height": 564
        },
        "id": "quwj8ux2WvTv",
        "outputId": "29aa2d2f-2b68-473c-fe5e-dad3d0d24f92"
      },
      "execution_count": null,
      "outputs": [
        {
          "output_type": "display_data",
          "data": {
            "text/plain": [
              "<Figure size 800x600 with 2 Axes>"
            ],
            "image/png": "[encoded data removed]"
          },
          "metadata": {}
        }
      ]
    },
    {
      "cell_type": "code",
      "source": [
        "#To see what was predicted wrongly\n",
        "\n",
        "results_df = X_test.copy()\n",
        "results_df['true_label'] = y_test.values\n",
        "results_df['predicted_label'] = y_pred\n",
        "\n",
        "# Identify false negatives (true_label=1, predicted_label=0)\n",
        "false_negatives = results_df[(results_df['true_label'] == 1) & (results_df['predicted_label'] == 0)]\n",
        "\n",
        "\n",
        "# Identify false positives (true_label=0, predicted_label=1)\n",
        "false_positives = results_df[(results_df['true_label'] == 0) & (results_df['predicted_label'] == 1)]\n",
        "\n",
        "\n",
        "# Identify true positives (true_label=1, predicted_label=1)\n",
        "true_positives = results_df[(results_df['true_label'] == 1) & (results_df['predicted_label'] == 1)]\n",
        "\n",
        "\n",
        "# Identify true negatives (true_label=0, predicted_label=0)\n",
        "true_negatives = results_df[(results_df['true_label'] == 0) & (results_df['predicted_label'] == 0)]\n",
        "\n",
        "\n",
        "# If you want to see the rows from the original DataFrame\n",
        "false_negative_rows = b.loc[false_negatives.index]\n",
        "false_positive_rows = b.loc[false_positives.index]\n",
        "true_positive_rows = b.loc[true_positives.index]\n",
        "true_negative_rows = b.loc[true_negatives.index]\n",
        "\n",
        "print(\"Original rows for False Negatives:\")\n",
        "print(false_negative_rows)\n",
        "\n",
        "# print(\"Original rows for False Positives:\")\n",
        "# print(false_positive_rows)\n",
        "\n",
        "# print(\"Original rows for True Positives:\")\n",
        "# print(true_positive_rows)\n",
        "\n",
        "# print(\"Original rows for True Negatives:\")\n",
        "# print(true_negative_rows)"
      ],
      "metadata": {
        "colab": {
          "base_uri": "https://localhost:8080/"
        },
        "collapsed": true,
        "id": "ynt8vaOBY6iT",
        "outputId": "4e601621-a3f5-4eeb-ca66-cffeb727650d"
      },
      "execution_count": null,
      "outputs": [
        {
          "output_type": "stream",
          "name": "stdout",
          "text": [
            "Original rows for False Negatives:\n",
            "       First Name  Last Name  Phone Area Code    Phone Number  \\\n",
            "550         Gerta     Doreus            786.0  (786) 704-1058   \n",
            "1108       Lauren     Panton            954.0  (954) 684-1208   \n",
            "142          Paul       King            407.0  (407) 847-9484   \n",
            "139        Steven          A            407.0  (407) 709-1976   \n",
            "121         Louis        NaN            347.0  (347) 893-0928   \n",
            "1146     Marjorie   Samerson            954.0  (954) 801-1706   \n",
            "1235         Paul      Lewis            973.0  (973) 493-0471   \n",
            "70        Richard          L            305.0  (305) 681-2588   \n",
            "716          John       Clay            813.0  (813) 767-5068   \n",
            "966         Wayne  Schofield            954.0  (954) 524-0731   \n",
            "962        Destin   Cherisol            954.0  (954) 512-9481   \n",
            "838         Vasou      Vasos            954.0  (954) 242-3405   \n",
            "985       Evelina          P            954.0  (954) 551-7270   \n",
            "134        Frazer    Johnson            404.0  (404) 456-1330   \n",
            "106          Kurt      Spath            321.0  (321) 356-1834   \n",
            "626         Brian    Cholnik            813.0  (813) 469-9013   \n",
            "353        Thomas     Keaney            609.0  (609) 442-4401   \n",
            "1182         Babu    Thekkan            954.0  (954) 822-8620   \n",
            "1122       Joseph     Urrick            954.0  (954) 708-8424   \n",
            "265      Claudius     Morame            561.0  (561) 541-2579   \n",
            "953         Diles      Cerne            954.0  (954) 479-0335   \n",
            "938          Mary          A            954.0  (954) 456-5301   \n",
            "1126    Katherine   Parziale            954.0  (954) 736-0324   \n",
            "945       Desmond     Clarke            954.0  (954) 465-3347   \n",
            "1217      Jacarri          J            954.0  (954) 940-0205   \n",
            "24         Janice     Strehl            248.0  (248) 767-4213   \n",
            "88         Ronald          M            305.0  (305) 903-0312   \n",
            "369          Paul    Kromish            631.0  (631) 384-1510   \n",
            "831      Roderick   Thompson            954.0  (954) 234-6749   \n",
            "967           NaN        NaN            954.0  (954) 524-6588   \n",
            "779        Wesley     Blaise            863.0  (863) 852-0402   \n",
            "179         Shibu          M            516.0  (516) 850-1274   \n",
            "601       Stephen      Jones            813.0  (813) 376-3075   \n",
            "808      Rachelle     Valere            917.0  (917) 943-9014   \n",
            "1028       Melvin     Carter            954.0  (954) 599-6764   \n",
            "430        Rodies          N            754.0  (754) 214-6985   \n",
            "236          Paul          R            561.0  (561) 351-4076   \n",
            "34           Kurt      Payne            305.0  (305) 282-0929   \n",
            "977      Rajendra   Harrilal            954.0  (954) 547-8533   \n",
            "83       Tecresha       Shaw            305.0  (305) 807-1943   \n",
            "120         Mabel   Campbell            347.0  (347) 731-3500   \n",
            "498       Neville      Hines            786.0  (786) 208-1557   \n",
            "109       William          A            323.0  (323) 608-1294   \n",
            "1075     Dimitris  Schaeffer            954.0  (954) 650-0901   \n",
            "904         Elena          G            954.0  (954) 336-4700   \n",
            "322         Ljubo     Skrbic            561.0  (561) 808-5588   \n",
            "895         James          B            954.0  (954) 326-1338   \n",
            "1034       Carlos          A            954.0  (954) 600-3512   \n",
            "489   Christopher   Flaherty            772.0  (772) 919-5020   \n",
            "542         Keith          E            786.0  (786) 543-4861   \n",
            "688         BOBBY      FOGLE            813.0  (813) 703-4519   \n",
            "409       Kristin        NaN            727.0  (727) 483-1292   \n",
            "\n",
            "           Lead Status  score Lead Quality          Lead Source Campaign Name  \\\n",
            "550          Warm Lead      1          Bad            Billboard  Cold Callers   \n",
            "1108         Dead Lead      0          Bad         Cold Calling  Cold Callers   \n",
            "142          Dead Lead      0          Bad         Cold Calling  Cold Callers   \n",
            "139          Dead Lead      0          Bad         Cold Calling  Cold Callers   \n",
            "121         Hot Leads🔥      4         Good         Cold Calling  Cold Callers   \n",
            "1146         Dead Lead      0          Bad         Cold Calling  Cold Callers   \n",
            "1235         Warm Lead      1          Bad         Cold Calling  Cold Callers   \n",
            "70           Warm Lead      1          Bad  Ringless Voicemails         Other   \n",
            "716          Dead Lead      0          Bad         Cold Calling          Gabe   \n",
            "966          Warm Lead      1          Bad         Cold Calling  Cold Callers   \n",
            "962          Dead Lead      0          Bad         Cold Calling  Cold Callers   \n",
            "838          Dead Lead      0          Bad         Cold Calling  Cold Callers   \n",
            "985          Dead Lead      0          Bad         Cold Calling  Cold Callers   \n",
            "134          Dead Lead      0          Bad            Billboard         Other   \n",
            "106          Dead Lead      0          Bad         Cold Calling  Cold Callers   \n",
            "626       Contact Made      3           Ok         Cold Calling  Cold Callers   \n",
            "353          Dead Lead      0          Bad         Cold Calling          Gabe   \n",
            "1182      Contact Made      3           Ok         Cold Calling  Cold Callers   \n",
            "1122         Dead Lead      0          Bad         Cold Calling  Cold Callers   \n",
            "265          Warm Lead      1          Bad         Cold Calling  Cold Callers   \n",
            "953          Dead Lead      0          Bad         Cold Calling  Cold Callers   \n",
            "938    No Contact Made      2           Ok         Cold Calling  Cold Callers   \n",
            "1126         Dead Lead      0          Bad         Cold Calling  Cold Callers   \n",
            "945          Dead Lead      0          Bad         Cold Calling  Cold Callers   \n",
            "1217         Dead Lead      0          Bad         Cold Calling  Cold Callers   \n",
            "24    Appointments Set      5         Good         Cold Calling  Cold Callers   \n",
            "88           Dead Lead      0          Bad         Cold Calling  Cold Callers   \n",
            "369          Dead Lead      0          Bad         Cold Calling  Cold Callers   \n",
            "831          Warm Lead      1          Bad         Cold Calling  Cold Callers   \n",
            "967          Warm Lead      1          Bad         Cold Calling  Cold Callers   \n",
            "779          Dead Lead      0          Bad         Cold Calling  Cold Callers   \n",
            "179       Contact Made      3           Ok         Cold Calling  Cold Callers   \n",
            "601          Warm Lead      1          Bad         Cold Calling  Cold Callers   \n",
            "808          Dead Lead      0          Bad         Cold Calling  Cold Callers   \n",
            "1028         Dead Lead      0          Bad         Cold Calling  Cold Callers   \n",
            "430    No Contact Made      2           Ok         Cold Calling  Cold Callers   \n",
            "236       Contact Made      3           Ok         Cold Calling  Cold Callers   \n",
            "34           Dead Lead      0          Bad            Billboard         Other   \n",
            "977          Dead Lead      0          Bad         Cold Calling  Cold Callers   \n",
            "83        Contact Made      3           Ok         Cold Calling  Cold Callers   \n",
            "120          Warm Lead      1          Bad         Cold Calling  Cold Callers   \n",
            "498        Offers Made      6         Good         Cold Calling  Cold Callers   \n",
            "109          Dead Lead      0          Bad         Cold Calling  Cold Callers   \n",
            "1075         Dead Lead      0          Bad         Cold Calling  Cold Callers   \n",
            "904    No Contact Made      2           Ok         Cold Calling  Cold Callers   \n",
            "322          Warm Lead      1          Bad         Cold Calling  Cold Callers   \n",
            "895          Dead Lead      0          Bad         Cold Calling  Cold Callers   \n",
            "1034         Dead Lead      0          Bad         Cold Calling  Cold Callers   \n",
            "489          Dead Lead      0          Bad                Other  Cold Callers   \n",
            "542          Warm Lead      1          Bad         Cold Calling  Cold Callers   \n",
            "688          Warm Lead      1          Bad         Cold Calling  Cold Callers   \n",
            "409          Dead Lead      0          Bad         Cold Calling  Cold Callers   \n",
            "\n",
            "                          Property Street Address  ... Apporx Sqft  \\\n",
            "550                              4861 nw 17th ave  ...      2649.0   \n",
            "1108                              1034 nw 3rd ave  ...      2586.0   \n",
            "142                               765 squirrel ct  ...      2212.0   \n",
            "139                               771 squirrel ct  ...      1992.0   \n",
            "121                                316 ne 36th st  ...      1297.0   \n",
            "1146                             2439 sw 42nd ave  ...      2009.0   \n",
            "1235                              6331 sw 21st st  ...      1475.0   \n",
            "70                              14441 nw 27th ave  ...      1888.0   \n",
            "716                            1729 e mulberry dr  ...      2108.0   \n",
            "966                               1530 sw 20th st  ...      1652.0   \n",
            "962                                900 nw 26th st  ...      2311.0   \n",
            "838                           918 s deerfield ave  ...      7134.0   \n",
            "985                                 1450 miami rd  ...      8781.0   \n",
            "134                                  30 sw 5th st  ...      2074.0   \n",
            "106                           2704 winter park rd  ...      1580.0   \n",
            "626                             36345 state rd 54  ...      1024.0   \n",
            "353                         932 ne 16th ave apt 1  ...      3060.0   \n",
            "1182                         4113 nw 78th terrace  ...      3094.0   \n",
            "1122                             1241 sw 11th ave  ...      2104.0   \n",
            "265                                 325 sw 2nd st  ...      3065.0   \n",
            "953                              1700 nw 52nd ave  ...      2435.0   \n",
            "938                               8600 nw 35th st  ...      4639.0   \n",
            "1126                              1605 sw 25th st  ...      2201.0   \n",
            "945                               5310 nw 16th st  ...      2215.0   \n",
            "1217                              5301 nw 17th ct  ...      2215.0   \n",
            "24                                 3205 marine dr  ...      2117.0   \n",
            "88                               2030 sw 41st ave  ...      2070.0   \n",
            "369                              2618 ne 32nd ave  ...      2365.0   \n",
            "831   900 ne 12th ave #1-2 pompano beach fl 33060  ...      1912.0   \n",
            "967                                618 sw 15th st  ...      1752.0   \n",
            "779                              1330 sw 11th ave  ...      2261.0   \n",
            "179                                813 sw 10th st  ...      3330.0   \n",
            "601                          3226 n falkenburg rd  ...      4790.0   \n",
            "808                            2551 sw 58th manor  ...      2528.0   \n",
            "1028                              520 nw 14th ave  ...      1474.0   \n",
            "430                          2253 nw 59th terrace  ...      4936.0   \n",
            "236                               7509 nw 44th ct  ...      4145.0   \n",
            "34                               2325 fillmore st  ...      2554.0   \n",
            "977                                281 sw 9th ave  ...      2299.0   \n",
            "83                                235 ne 118th st  ...      2318.0   \n",
            "120                              2995 sw 64th ave  ...      2367.0   \n",
            "498                              1251 ne 150th st  ...      2426.0   \n",
            "109                                 303 nw 7th ct  ...      2281.0   \n",
            "1075                          715 nw 17th terrace  ...      1580.0   \n",
            "904                               2701 ne 6th ave  ...      5504.0   \n",
            "322                             1922 jefferson st  ...      2262.0   \n",
            "895                                226 sw 20th st  ...      2790.0   \n",
            "1034                         1736 sw 44th terrace  ...      1832.0   \n",
            "489                     1497 sw martin downs blvd  ...      6244.0   \n",
            "542                                814 nw 3rd ave  ...      1349.0   \n",
            "688                                  1406 neil st  ...       940.0   \n",
            "409                               1715 ne 11th st  ...      2480.0   \n",
            "\n",
            "     Lot Size Sqft Effective Year Built                           House Type  \\\n",
            "550         5750.0               1955.0                           Commercial   \n",
            "1108        6746.0               1969.0  Multi-Unit/Multi-Family Residential   \n",
            "142         8324.0               2004.0  Multi-Unit/Multi-Family Residential   \n",
            "139         8120.0               1985.0  Multi-Unit/Multi-Family Residential   \n",
            "121         6549.0               1951.0  Multi-Unit/Multi-Family Residential   \n",
            "1146        7353.0               1979.0  Multi-Unit/Multi-Family Residential   \n",
            "1235        6613.0               1956.0  Multi-Unit/Multi-Family Residential   \n",
            "70         12000.0               1940.0                           Commercial   \n",
            "716         6000.0               1979.0  Multi-Unit/Multi-Family Residential   \n",
            "966         6432.0               1959.0  Multi-Unit/Multi-Family Residential   \n",
            "962         7202.0               1965.0  Multi-Unit/Multi-Family Residential   \n",
            "838        12723.0               1964.0                           Industrial   \n",
            "985        14572.0               1965.0  Multi-Unit/Multi-Family Residential   \n",
            "134        14205.0               1940.0  Multi-Unit/Multi-Family Residential   \n",
            "106         6997.0               1956.0  Multi-Unit/Multi-Family Residential   \n",
            "626        28457.0               1962.0                           Commercial   \n",
            "353         6750.0               1963.0  Multi-Unit/Multi-Family Residential   \n",
            "1182        8620.0               1973.0  Multi-Unit/Multi-Family Residential   \n",
            "1122        7667.0               1974.0  Multi-Unit/Multi-Family Residential   \n",
            "265         6505.0               1970.0  Multi-Unit/Multi-Family Residential   \n",
            "953         7649.0               1970.0  Multi-Unit/Multi-Family Residential   \n",
            "938        14298.0               1972.0  Multi-Unit/Multi-Family Residential   \n",
            "1126       12999.0               1953.0  Multi-Unit/Multi-Family Residential   \n",
            "945         7673.0               1969.0  Multi-Unit/Multi-Family Residential   \n",
            "1217        8200.0               1970.0  Multi-Unit/Multi-Family Residential   \n",
            "24          7500.0               1957.0  Multi-Unit/Multi-Family Residential   \n",
            "88          6000.0               1963.0  Multi-Unit/Multi-Family Residential   \n",
            "369         9352.0               1958.0  Multi-Unit/Multi-Family Residential   \n",
            "831         5459.0               1969.0  Multi-Unit/Multi-Family Residential   \n",
            "967         8614.0               1968.0  Multi-Unit/Multi-Family Residential   \n",
            "779         7000.0               1974.0  Multi-Unit/Multi-Family Residential   \n",
            "179        11547.0               1985.0  Multi-Unit/Multi-Family Residential   \n",
            "601         7000.0               2001.0              Multi-Unit Professional   \n",
            "808         8125.0               1975.0  Multi-Unit/Multi-Family Residential   \n",
            "1028        3955.0               1963.0  Multi-Unit/Multi-Family Residential   \n",
            "430        14229.0               1975.0  Multi-Unit/Multi-Family Residential   \n",
            "236         7500.0               1972.0  Multi-Unit/Multi-Family Residential   \n",
            "34         20502.0               1951.0  Multi-Unit/Multi-Family Residential   \n",
            "977         9848.0               1963.0  Multi-Unit/Multi-Family Residential   \n",
            "83         16523.0               1972.0  Multi-Unit/Multi-Family Residential   \n",
            "120         7410.0               1974.0  Multi-Unit/Multi-Family Residential   \n",
            "498         8976.0               1958.0  Multi-Unit/Multi-Family Residential   \n",
            "109         5819.0               1973.0  Multi-Unit/Multi-Family Residential   \n",
            "1075        4500.0               1956.0  Multi-Unit/Multi-Family Residential   \n",
            "904        10581.0               1972.0  Multi-Unit/Multi-Family Residential   \n",
            "322        10912.0               1959.0  Multi-Unit/Multi-Family Residential   \n",
            "895         6750.0               1966.0  Multi-Unit/Multi-Family Residential   \n",
            "1034        6326.0               1981.0  Multi-Unit/Multi-Family Residential   \n",
            "489        29463.0               2013.0              Multi-Unit Professional   \n",
            "542         3941.0               1961.0  Multi-Unit/Multi-Family Residential   \n",
            "688            NaN                  NaN                                  NaN   \n",
            "409         6750.0               1951.0  Multi-Unit/Multi-Family Residential   \n",
            "\n",
            "     Tax Assessed Value Last Sold Price Lead Created Date  download_date  \\\n",
            "550            267902.0        100000.0            4/1/24        5/21/24   \n",
            "1108           553320.0             NaN            6/7/23        5/21/24   \n",
            "142            196293.0        175000.0           9/22/23        5/21/24   \n",
            "139            156780.0         87500.0            7/5/23        5/21/24   \n",
            "121            276780.0        295000.0           7/11/23        6/21/24   \n",
            "1146           343650.0        150000.0            6/6/23        5/21/24   \n",
            "1235           223350.0        250000.0            6/6/23        5/21/24   \n",
            "70             281590.0         30000.0           8/16/23        5/21/24   \n",
            "716            140083.0             NaN            4/5/24        5/21/24   \n",
            "966            382150.0         12800.0            6/8/23        5/21/24   \n",
            "962            279790.0             NaN           6/28/23        5/21/24   \n",
            "838            625000.0        790600.0            2/9/24        5/21/24   \n",
            "985           1370260.0             NaN           5/31/23        5/21/24   \n",
            "134            372460.0        375000.0           9/20/23        5/21/24   \n",
            "106            250720.0        170000.0           6/27/23        5/21/24   \n",
            "626            416480.0        367500.0           5/22/24        5/26/24   \n",
            "353           1008770.0             NaN           4/16/24        5/21/24   \n",
            "1182           419800.0        230000.0           8/31/23        5/21/24   \n",
            "1122           266260.0        170000.0           5/31/23        5/21/24   \n",
            "265            338540.0             NaN            6/6/23        5/21/24   \n",
            "953            339630.0        180000.0            6/7/23        5/21/24   \n",
            "938            639510.0             NaN            6/1/23        5/21/24   \n",
            "1126           489030.0        115000.0            6/5/23        5/21/24   \n",
            "945            336580.0         75000.0           5/30/23        5/21/24   \n",
            "1217           352220.0        335000.0            6/7/23        5/21/24   \n",
            "24             555810.0        133900.0           7/10/23        6/21/24   \n",
            "88             287730.0             NaN           5/31/23        5/21/24   \n",
            "369            870800.0             NaN            6/7/23        5/21/24   \n",
            "831            357940.0        160000.0           6/15/23        5/21/24   \n",
            "967            402830.0             NaN           6/14/23        5/21/24   \n",
            "779            262340.0        315000.0            6/8/23        5/21/24   \n",
            "179            496690.0        415000.0            6/1/23        6/21/24   \n",
            "601            665700.0        570000.0           5/17/24        5/21/24   \n",
            "808            262350.0             NaN            6/7/23        5/21/24   \n",
            "1028           201920.0             NaN           5/30/23        5/21/24   \n",
            "430            615930.0        234000.0           6/16/23        5/21/24   \n",
            "236            593720.0             NaN           8/31/23        5/21/24   \n",
            "34             337730.0        135000.0           11/2/23        5/21/24   \n",
            "977            228560.0        220000.0           9/21/23        5/21/24   \n",
            "83             463345.0             NaN           6/15/23        5/21/24   \n",
            "120            283900.0        299000.0            6/9/23        5/21/24   \n",
            "498            341001.0             NaN           6/16/23        6/21/24   \n",
            "109            264550.0             NaN            6/7/23        5/21/24   \n",
            "1075           153040.0             NaN           6/27/23        5/21/24   \n",
            "904            683440.0         50000.0            6/9/23        5/21/24   \n",
            "322            375340.0        130000.0          11/29/23        5/21/24   \n",
            "895            518020.0             NaN            6/5/23        5/21/24   \n",
            "1034           308900.0             NaN            6/5/23        5/21/24   \n",
            "489           1676280.0       1699724.0            2/7/24        5/21/24   \n",
            "542            243660.0         52000.0            6/1/23        5/21/24   \n",
            "688                 NaN             NaN           4/11/24        5/21/24   \n",
            "409            416620.0        350000.0           7/10/23        5/21/24   \n",
            "\n",
            "      same_address  Lead at all  \n",
            "550             no            1  \n",
            "1108            no            1  \n",
            "142             no            1  \n",
            "139             no            1  \n",
            "121             no            1  \n",
            "1146            no            1  \n",
            "1235            no            1  \n",
            "70              no            1  \n",
            "716             no            1  \n",
            "966             no            1  \n",
            "962             no            1  \n",
            "838             no            1  \n",
            "985             no            1  \n",
            "134             no            1  \n",
            "106             no            1  \n",
            "626             no            1  \n",
            "353             no            1  \n",
            "1182            no            1  \n",
            "1122            no            1  \n",
            "265             no            1  \n",
            "953             no            1  \n",
            "938             no            1  \n",
            "1126            no            1  \n",
            "945             no            1  \n",
            "1217            no            1  \n",
            "24              no            1  \n",
            "88              no            1  \n",
            "369             no            1  \n",
            "831             no            1  \n",
            "967             no            1  \n",
            "779             no            1  \n",
            "179             no            1  \n",
            "601             no            1  \n",
            "808             no            1  \n",
            "1028            no            1  \n",
            "430             no            1  \n",
            "236             no            1  \n",
            "34              no            1  \n",
            "977             no            1  \n",
            "83              no            1  \n",
            "120             no            1  \n",
            "498             no            1  \n",
            "109             no            1  \n",
            "1075            no            1  \n",
            "904             no            1  \n",
            "322             no            1  \n",
            "895             no            1  \n",
            "1034            no            1  \n",
            "489             no            1  \n",
            "542             no            1  \n",
            "688        unknown            1  \n",
            "409             no            1  \n",
            "\n",
            "[52 rows x 29 columns]\n"
          ]
        }
      ]
    },
    {
      "cell_type": "code",
      "source": [
        "'''\n",
        "\n",
        "\n",
        "predicting what kind of lead it will be\n",
        "\n",
        "\n",
        "'''"
      ],
      "metadata": {
        "id": "LjYdhnPccajH"
      },
      "execution_count": null,
      "outputs": []
    },
    {
      "cell_type": "code",
      "source": [
        "b.columns"
      ],
      "metadata": {
        "colab": {
          "base_uri": "https://localhost:8080/"
        },
        "id": "CoWl6WIepA0K",
        "outputId": "7a5c0d2a-fa0c-44e1-cd30-592b35ee7861"
      },
      "execution_count": null,
      "outputs": [
        {
          "output_type": "execute_result",
          "data": {
            "text/plain": [
              "Index(['First Name', 'Last Name', 'Phone Area Code', 'Phone Number',\n",
              "       'Lead Status', 'score', 'Lead Quality', 'Lead Source', 'Campaign Name',\n",
              "       'Property Street Address', 'Property City', 'Property State',\n",
              "       'Property Zip', 'Mailing Street Address', 'Mailing City',\n",
              "       'Mailing State', 'Mailing Zip', 'Bedroom', 'Bathroom', 'Apporx Sqft',\n",
              "       'Lot Size Sqft', 'Effective Year Built', 'House Type',\n",
              "       'Tax Assessed Value', 'Last Sold Price', 'Lead Created Date',\n",
              "       'download_date', 'same_address'],\n",
              "      dtype='object')"
            ]
          },
          "metadata": {},
          "execution_count": 14
        }
      ]
    },
    {
      "cell_type": "code",
      "source": [
        "b['Lead Quality'].unique()"
      ],
      "metadata": {
        "colab": {
          "base_uri": "https://localhost:8080/"
        },
        "id": "lAfQJAKCuD4s",
        "outputId": "acf648c2-db42-4c93-f6ae-d1c83e301f44"
      },
      "execution_count": null,
      "outputs": [
        {
          "output_type": "execute_result",
          "data": {
            "text/plain": [
              "array(['Bad', 'Ok', 'Good', nan], dtype=object)"
            ]
          },
          "metadata": {},
          "execution_count": 24
        }
      ]
    },
    {
      "cell_type": "code",
      "source": [
        "b['score'].unique()"
      ],
      "metadata": {
        "colab": {
          "base_uri": "https://localhost:8080/"
        },
        "id": "JPli8jIoc2zp",
        "outputId": "2dd008b0-ba47-40f4-c638-e04a8c58aab8"
      },
      "execution_count": null,
      "outputs": [
        {
          "output_type": "execute_result",
          "data": {
            "text/plain": [
              "array([ 1,  0,  3,  6, -1,  5,  2,  4,  7, -3])"
            ]
          },
          "metadata": {},
          "execution_count": 22
        }
      ]
    },
    {
      "cell_type": "code",
      "source": [
        "#renumber b['score']\n",
        "rename_dict = {\n",
        "    -3 : 0,\n",
        "    -1 : 1,\n",
        "    0 : 2,\n",
        "    1 : 3,\n",
        "    2 : 4,\n",
        "    3 : 5,\n",
        "    4 : 6,\n",
        "    5 : 7,\n",
        "    6 : 8,\n",
        "    7 : 9}\n",
        "\n",
        "# Map values in the 'column_name' column\n",
        "b['score'] = b['score'].map(rename_dict)"
      ],
      "metadata": {
        "id": "wOSsa6genmte"
      },
      "execution_count": null,
      "outputs": []
    },
    {
      "cell_type": "code",
      "source": [
        "rename_dict2 = {\n",
        "     0 : 0,\n",
        "    'Bad' : 1,\n",
        "    'Ok' : 2,\n",
        "    'Good' : 3,}\n",
        "\n",
        "b['Lead Quality'].fillna(0, inplace = True)\n",
        "# Map values in the 'column_name' column\n",
        "b['Lead Quality score'] = b['Lead Quality'].map(rename_dict2)"
      ],
      "metadata": {
        "id": "Q5JA_qTPuKyD"
      },
      "execution_count": null,
      "outputs": []
    },
    {
      "cell_type": "code",
      "source": [
        "b['Lead Quality score'].unique()"
      ],
      "metadata": {
        "colab": {
          "base_uri": "https://localhost:8080/"
        },
        "id": "mfuRm2DiunQe",
        "outputId": "a9228092-6799-42cd-a0c1-c16570390a74"
      },
      "execution_count": null,
      "outputs": [
        {
          "output_type": "execute_result",
          "data": {
            "text/plain": [
              "array([1, 2, 3, 0])"
            ]
          },
          "metadata": {},
          "execution_count": 35
        }
      ]
    },
    {
      "cell_type": "code",
      "source": [
        "# Separating features and target\n",
        "X2 = b_features\n",
        "y2 = b['Lead Quality score']\n",
        "\n",
        "# Splitting the data into training and testing sets\n",
        "X_train2, X_test2, y_train2, y_test2 = train_test_split(X2, y2, test_size=0.6, random_state=42)\n",
        "\n",
        "# Training the model\n",
        "model2 = XGBClassifier(n_estimators=10, max_depth=5, learning_rate=0.1, objective='multi:softmax')\n",
        "model2.fit(X_train2, y_train2, eval_set=[(X_test2, y_test2)], eval_metric=[\"mlogloss\", \"merror\"])\n",
        "\n",
        "\n",
        "# Making predictions\n",
        "y_pred2 = model2.predict(X_test2)\n",
        "\n",
        "# Evaluating the model\n",
        "accuracy2 = accuracy_score(y_test2, y_pred2)\n",
        "print(f'Accuracy: {accuracy2}')"
      ],
      "metadata": {
        "colab": {
          "base_uri": "https://localhost:8080/"
        },
        "id": "iwp6IOPjb5Ux",
        "outputId": "9bab01e2-1059-4875-d555-41d9efa7e06a"
      },
      "execution_count": null,
      "outputs": [
        {
          "metadata": {
            "tags": null
          },
          "name": "stderr",
          "output_type": "stream",
          "text": [
            "/usr/local/lib/python3.10/dist-packages/xgboost/sklearn.py:889: UserWarning: `eval_metric` in `fit` method is deprecated for better compatibility with scikit-learn, use `eval_metric` in constructor or`set_params` instead.\n",
            "  warnings.warn(\n"
          ]
        },
        {
          "output_type": "stream",
          "name": "stdout",
          "text": [
            "[0]\tvalidation_0-mlogloss:1.19466\tvalidation_0-merror:0.00398\n",
            "[1]\tvalidation_0-mlogloss:1.04122\tvalidation_0-merror:0.00386\n",
            "[2]\tvalidation_0-mlogloss:0.91455\tvalidation_0-merror:0.00384\n",
            "[3]\tvalidation_0-mlogloss:0.80781\tvalidation_0-merror:0.00386\n",
            "[4]\tvalidation_0-mlogloss:0.71663\tvalidation_0-merror:0.00384\n",
            "[5]\tvalidation_0-mlogloss:0.63790\tvalidation_0-merror:0.00382\n",
            "[6]\tvalidation_0-mlogloss:0.56940\tvalidation_0-merror:0.00379\n",
            "[7]\tvalidation_0-mlogloss:0.50944\tvalidation_0-merror:0.00379\n",
            "[8]\tvalidation_0-mlogloss:0.45670\tvalidation_0-merror:0.00378\n",
            "[9]\tvalidation_0-mlogloss:0.41011\tvalidation_0-merror:0.00377\n",
            "Accuracy: 0.9962341267801141\n"
          ]
        }
      ]
    },
    {
      "cell_type": "code",
      "source": [
        "cm2 = confusion_matrix(y_test2, y_pred2)\n",
        "print(\"Confusion Matrix 2:\")\n",
        "print(cm2)\n",
        "\n",
        "# Plot confusion matrix using seaborn\n",
        "plt.figure(figsize=(8, 6))\n",
        "sns.heatmap(cm2, annot=True, fmt='d', cmap='Blues',\n",
        "            xticklabels=['Predicted None', 'Predicted Bad','Predicted Ok','Predicted Good'],\n",
        "             yticklabels=['Actual No', 'Actual Bad','Actual Ok','Actual Good'])\n",
        "plt.xlabel('Predicted')\n",
        "plt.ylabel('Actual')\n",
        "plt.title('Confusion Matrix')\n",
        "plt.show()"
      ],
      "metadata": {
        "colab": {
          "base_uri": "https://localhost:8080/",
          "height": 653
        },
        "id": "lbYwGAeNme54",
        "outputId": "ecc97bfd-4211-4978-fa35-bd817bd1487a"
      },
      "execution_count": null,
      "outputs": [
        {
          "output_type": "stream",
          "name": "stdout",
          "text": [
            "Confusion Matrix 2:\n",
            "[[77046     7     0     0]\n",
            " [   24   448    42     2]\n",
            " [    9   142    16     6]\n",
            " [    2    52     7     1]]\n"
          ]
        },
        {
          "output_type": "display_data",
          "data": {
            "text/plain": [
              "<Figure size 800x600 with 2 Axes>"
            ],
            "image/png": "[encoded data removed]"
          },
          "metadata": {}
        }
      ]
    }
  ],
  "metadata": {
    "colab": {
      "machine_shape": "hm",
      "provenance": []
    },
    "kernelspec": {
      "display_name": "Python 3",
      "name": "python3"
    },
    "language_info": {
      "codemirror_mode": {
        "name": "ipython",
        "version": 3
      },
      "file_extension": ".py",
      "mimetype": "text/x-python",
      "name": "python",
      "nbconvert_exporter": "python",
      "pygments_lexer": "ipython3",
      "version": "3.11.0"
    },
    "vscode": {
      "interpreter": {
        "hash": "8c9587381b2341d562742e36a89690be32a732b11830813473890249dd40a07d"
      }
    }
  },
  "nbformat": 4,
  "nbformat_minor": 0
}