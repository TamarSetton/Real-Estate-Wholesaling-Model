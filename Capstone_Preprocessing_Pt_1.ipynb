{
  "nbformat": 4,
  "nbformat_minor": 0,
  "metadata": {
    "colab": {
      "provenance": []
    },
    "kernelspec": {
      "name": "python3",
      "display_name": "Python 3"
    },
    "language_info": {
      "name": "python"
    }
  },
  "cells": [
    {
      "cell_type": "code",
      "execution_count": null,
      "metadata": {
        "id": "2fJWJPdMBkka"
      },
      "outputs": [],
      "source": [
        "importing necessary libraries\n",
        "import pandas as pd\n",
        "import numpy as np\n",
        "!pip install pgeocode\n",
        "import pgeocode\n",
        "import matplotlib.pyplot as plt\n",
        "!pip install geopy\n",
        "from geopy.geocoders import Nominatim\n",
        "!pip install rapidfuzz\n",
        "from rapidfuzz import process, fuzz"
      ]
    },
    {
      "cell_type": "markdown",
      "source": [
        "# Preprossessing Lead Data"
      ],
      "metadata": {
        "id": "lM1NFvHhn_Wl"
      }
    },
    {
      "cell_type": "code",
      "source": [
        "#import first set\n",
        "current_1 = pd.read_csv('1current_Leads_22028 PM.csv')\n",
        "dead_1 = pd.read_csv('dead_Leads_1.csv')\n",
        "warm_1 = pd.read_csv('warm_Leads_21945 PM.csv')\n",
        "\n",
        "#cobine them\n",
        "df1 = pd.concat([current_1, dead_1, warm_1], ignore_index=True)\n",
        "\n",
        "#add at the end a column for the date i downloaded it.\n",
        "df1['download_date'] = pd.to_datetime('2024-05-21')"
      ],
      "metadata": {
        "id": "8DwLJT0LtyfB"
      },
      "execution_count": null,
      "outputs": []
    },
    {
      "cell_type": "code",
      "source": [
        "#import second set\n",
        "current_2 = pd.read_csv('2 active leads.csv')\n",
        "dead_2 = pd.read_csv('2 dead Leads.csv')\n",
        "warm_2 = pd.read_csv('2 warm leads.csv')\n",
        "\n",
        "#cobine them\n",
        "df2 = pd.concat([current_2, dead_2, warm_2], ignore_index=True)\n",
        "\n",
        "#add at the end a column for the date i downloaded it.\n",
        "df2['download_date'] = pd.to_datetime('2024-05-26')"
      ],
      "metadata": {
        "id": "boDdcqARxNwc"
      },
      "execution_count": null,
      "outputs": []
    },
    {
      "cell_type": "code",
      "source": [
        "#import third set\n",
        "current_3 = pd.read_csv('curent_lead_3.csv')\n",
        "dead_3 = pd.read_csv('dead_lead3.csv')\n",
        "warm_3 = pd.read_csv('warm_lead3.csv')\n",
        "\n",
        "#cobine them\n",
        "df3 = pd.concat([current_3, dead_3, warm_3], ignore_index=True)\n",
        "\n",
        "#add at the end a column for the date i downloaded it.\n",
        "df3['download_date'] = pd.to_datetime('2024-06-21')"
      ],
      "metadata": {
        "id": "tEAzIB6oClX7"
      },
      "execution_count": null,
      "outputs": []
    },
    {
      "cell_type": "code",
      "source": [
        "#import fourth set\n",
        "current_4 = pd.read_csv('Active leads 4.csv')\n",
        "dead_4 = pd.read_csv('dead leads 4.csv')\n",
        "warm_4 = pd.read_csv('warm leads 4.csv')\n",
        "\n",
        "#cobine them\n",
        "df4 = pd.concat([current_3, dead_3, warm_3], ignore_index=True)\n",
        "\n",
        "#add at the end a column for the date i downloaded it.\n",
        "df4['download_date'] = pd.to_datetime('2024-06-24')"
      ],
      "metadata": {
        "id": "OIXGEdCg-c3B"
      },
      "execution_count": null,
      "outputs": []
    },
    {
      "cell_type": "code",
      "source": [
        "# combine all\n",
        "df = pd.concat([df1, df2, df3, df4], ignore_index=True)"
      ],
      "metadata": {
        "id": "0N6vY8vxEvHi"
      },
      "execution_count": null,
      "outputs": []
    },
    {
      "cell_type": "code",
      "source": [
        "# show all empty columns\n",
        "df.columns[df.isnull().all()]"
      ],
      "metadata": {
        "id": "Ux9jA9mKs5Xc",
        "colab": {
          "base_uri": "https://localhost:8080/"
        },
        "outputId": "f8c23a27-6a9c-4e7f-e918-f4887b236e4b",
        "collapsed": true
      },
      "execution_count": null,
      "outputs": [
        {
          "output_type": "execute_result",
          "data": {
            "text/plain": [
              "Index(['Property Street Address 2', 'Mortgage Date', 'Tax Assessed Year',\n",
              "       'Is There a Garage?', 'Garage Size', 'Assignment Contract Date',\n",
              "       'Buyer Name', 'Buyer Phone Number', 'Buyer Email', 'Accountant',\n",
              "       'Admin', 'Bookkeeper', 'Closing Coordinator', 'Co-Owner',\n",
              "       'Lead Manager', 'Marketing Assistant', 'Marketing Manager',\n",
              "       'Office Manager', 'Other Role', 'Project Manager', 'Property Analyst',\n",
              "       'Property Manager', 'Transaction Coordinator', 'Real Estate Agent'],\n",
              "      dtype='object')"
            ]
          },
          "metadata": {},
          "execution_count": 7
        }
      ]
    },
    {
      "cell_type": "code",
      "source": [
        "#drop all empty and unnecessary columns\n",
        "to_drop = ['Property Street Address 2', 'Is There a Garage?', 'Garage Size','Garage attached or detached','Appointment Date',\n",
        "           'Offer Price', 'Offer Date', 'Under Contract Date','Under Contract Price', 'Schedule Closing Date',\n",
        "           'Expected Profit', 'Assignment Contract Date', 'Buyer Name', 'Buyer Phone Number','Buyer Email', 'Tags',\n",
        "           'Dead Lead Reason', 'Accountant', 'Acquisition Manager', 'Acquisition Sales Manager', 'Admin', 'Bookkeeper',\n",
        "           'Closing Coordinator', 'Co-Owner', 'Disposition Manager', 'Lead Manager', 'Marketing Assistant',\n",
        "           'Marketing Manager','Office Manager', 'Other Role', 'Owner', 'Project Manager', 'Property Analyst',\n",
        "           'Property Manager', 'Transaction Coordinator','Real Estate Agent', 'Mortgage Date', 'Tax Assessed Year']\n",
        "\n",
        "\n",
        "df.drop(to_drop, axis=1, inplace=True)"
      ],
      "metadata": {
        "id": "VcbF8odZyvEZ",
        "collapsed": true
      },
      "execution_count": null,
      "outputs": []
    },
    {
      "cell_type": "code",
      "source": [
        "#count duplicates\n",
        "df.duplicated().sum()\n",
        "#drop duplicates\n",
        "df = df.drop_duplicates(keep='first')"
      ],
      "metadata": {
        "id": "YslogwyEvOKk"
      },
      "execution_count": null,
      "outputs": []
    },
    {
      "cell_type": "code",
      "source": [
        "#create a new column for phone number area code\n",
        "df['Phone Area Code'] = df['Phone Number'].str.extract(r'\\((\\d{3})\\)')"
      ],
      "metadata": {
        "id": "l7-hgmuUB-R1",
        "colab": {
          "base_uri": "https://localhost:8080/"
        },
        "outputId": "8d98a645-cdfe-467f-d2bd-8aef8a5da9d5"
      },
      "execution_count": null,
      "outputs": [
        {
          "output_type": "stream",
          "name": "stderr",
          "text": [
            "<ipython-input-10-df4f7fdff70b>:2: SettingWithCopyWarning: \n",
            "A value is trying to be set on a copy of a slice from a DataFrame.\n",
            "Try using .loc[row_indexer,col_indexer] = value instead\n",
            "\n",
            "See the caveats in the documentation: https://pandas.pydata.org/pandas-docs/stable/user_guide/indexing.html#returning-a-view-versus-a-copy\n",
            "  df['Phone Area Code'] = df['Phone Number'].str.extract(r'\\((\\d{3})\\)')\n"
          ]
        }
      ]
    },
    {
      "cell_type": "code",
      "source": [
        "#identify how many duplicate properties there are in the dataset based on the phone numbers.\n",
        "phone_counts = df['Phone Number'].value_counts()\n",
        "\n",
        "# Calculate the sum of duplicates by summing counts greater than 1 and subtracting 1 for each duplicate\n",
        "sum_duplicates = (phone_counts[phone_counts > 1] - 1).sum()\n",
        "\n",
        "# Display the sum of all duplicates\n",
        "print(sum_duplicates)"
      ],
      "metadata": {
        "colab": {
          "base_uri": "https://localhost:8080/"
        },
        "id": "RvYKQW0bNlyM",
        "outputId": "9fd85056-8fa9-4f0e-97de-4434a1d5b691"
      },
      "execution_count": null,
      "outputs": [
        {
          "output_type": "stream",
          "name": "stdout",
          "text": [
            "5078\n"
          ]
        }
      ]
    },
    {
      "cell_type": "code",
      "source": [
        "#If a lead change comes up later as a worser lead, keep only the better one, and vice versa\n",
        "\n",
        "#create a column with a score for lead status\n",
        "lead_to_score = {'New Leads': -1,'Dead Lead' : 0, 'Warm Lead': 1, 'No Contact Made': 2, 'Contact Made' : 3,\n",
        "                 'Hot Leads🔥': 4, 'Appointments Set' : 5, 'Offers Made' : 6, 'Under Contract' : 7}\n",
        "\n",
        "# Create the 'score' column by mapping the 'rating' column\n",
        "df['score'] = df['Lead Status'].map(lead_to_score)"
      ],
      "metadata": {
        "id": "xsKtCy2kCeTc"
      },
      "execution_count": null,
      "outputs": []
    },
    {
      "cell_type": "code",
      "source": [
        "#before dopping duplicatse:\n",
        "df['Lead Status'].value_counts()"
      ],
      "metadata": {
        "colab": {
          "base_uri": "https://localhost:8080/"
        },
        "id": "uLJupNdoPeFX",
        "outputId": "5218f176-5466-4b77-9a71-a461fd00943b"
      },
      "execution_count": null,
      "outputs": [
        {
          "output_type": "execute_result",
          "data": {
            "text/plain": [
              "Lead Status\n",
              "Dead Lead           3194\n",
              "Warm Lead           2036\n",
              "Contact Made         955\n",
              "No Contact Made      270\n",
              "Offers Made          104\n",
              "Hot Leads🔥            84\n",
              "Appointments Set      70\n",
              "New Leads             69\n",
              "Under Contract        30\n",
              "Name: count, dtype: int64"
            ]
          },
          "metadata": {},
          "execution_count": 13
        }
      ]
    },
    {
      "cell_type": "code",
      "source": [
        "# Sort the DataFrame by 'phone number' and 'score' in descending order\n",
        "df = df.sort_values(by=['Phone Number', 'score'], ascending=[True, False])\n",
        "\n",
        "# Drop duplicates of phone numbers, keeping the first occurrence (which has the highest score due to sorting)\n",
        "df = df.drop_duplicates(subset='Phone Number', keep='first')\n",
        "\n",
        "# Reset index for a clean DataFrame\n",
        "df = df.reset_index(drop=True)"
      ],
      "metadata": {
        "id": "C1Q-caP2PaMz"
      },
      "execution_count": null,
      "outputs": []
    },
    {
      "cell_type": "code",
      "source": [
        "#after dropping duplicates\n",
        "df['Lead Status'].value_counts()"
      ],
      "metadata": {
        "colab": {
          "base_uri": "https://localhost:8080/"
        },
        "id": "_VV_zKTvM13p",
        "outputId": "a14c377b-0768-4179-a917-2e763572d2de"
      },
      "execution_count": null,
      "outputs": [
        {
          "output_type": "execute_result",
          "data": {
            "text/plain": [
              "Lead Status\n",
              "Dead Lead           752\n",
              "Warm Lead           451\n",
              "Contact Made        318\n",
              "No Contact Made      69\n",
              "Offers Made          54\n",
              "Hot Leads🔥           37\n",
              "Appointments Set     24\n",
              "New Leads            20\n",
              "Under Contract        9\n",
              "Name: count, dtype: int64"
            ]
          },
          "metadata": {},
          "execution_count": 15
        }
      ]
    },
    {
      "cell_type": "code",
      "source": [
        "# Calculate the percentage of each unique value in the ''Lead Status'' column\n",
        "percentage_counts = df['Lead Status'].value_counts(normalize=True) * 100\n",
        "print(percentage_counts)"
      ],
      "metadata": {
        "colab": {
          "base_uri": "https://localhost:8080/"
        },
        "id": "s6bUqTcItcFy",
        "outputId": "946b6b5b-e781-4b87-f005-690d12a9e87c"
      },
      "execution_count": null,
      "outputs": [
        {
          "output_type": "stream",
          "name": "stdout",
          "text": [
            "Lead Status\n",
            "Dead Lead           43.367935\n",
            "Warm Lead           26.009227\n",
            "Contact Made        18.339100\n",
            "No Contact Made      3.979239\n",
            "Offers Made          3.114187\n",
            "Hot Leads🔥           2.133795\n",
            "Appointments Set     1.384083\n",
            "New Leads            1.153403\n",
            "Under Contract       0.519031\n",
            "Name: proportion, dtype: float64\n"
          ]
        }
      ]
    },
    {
      "cell_type": "code",
      "source": [
        "lead_to_quality = {'New Leads': 'Ok','Dead Lead' : 'Bad', 'Warm Lead': 'Bad', 'No Contact Made': 'Ok', 'Contact Made' : 'Ok',\n",
        "                 'Hot Leads🔥': 'Good', 'Appointments Set' : 'Good', 'Offers Made' : 'Good', 'Under Contract' : 'Good'}\n",
        "\n",
        "# Create the 'score' column by mapping the 'rating' column\n",
        "df['Lead Quality'] = df['Lead Status'].map(lead_to_quality)"
      ],
      "metadata": {
        "id": "JkCs1S_stquv"
      },
      "execution_count": null,
      "outputs": []
    },
    {
      "cell_type": "code",
      "source": [
        "percentage_q_counts = df['Lead Quality'].value_counts(normalize=True) * 100\n",
        "print(percentage_q_counts)"
      ],
      "metadata": {
        "colab": {
          "base_uri": "https://localhost:8080/"
        },
        "id": "QET4jAxsuMh5",
        "outputId": "9538e39c-9944-42b4-916e-acb36f98a2b6"
      },
      "execution_count": null,
      "outputs": [
        {
          "output_type": "stream",
          "name": "stdout",
          "text": [
            "Lead Quality\n",
            "Bad     69.377163\n",
            "Ok      23.471742\n",
            "Good     7.151096\n",
            "Name: proportion, dtype: float64\n"
          ]
        }
      ]
    },
    {
      "cell_type": "code",
      "source": [
        "column_order = ['First Name', 'Last Name', 'Phone Area Code', 'Phone Number', 'Email Address',\n",
        "       'Lead Status', 'score', 'Lead Quality', 'Lead Source', 'Campaign Name',\n",
        "       'Property Street Address', 'Property City', 'Property State',\n",
        "       'Property Zip', 'Mailing Address','Bedroom', 'Bathroom', 'Apporx Sqft',\n",
        "       'Lot Size Sqft', 'Year Buit', 'House Type', 'Mortgage Amount',\n",
        "       'Tax Assessed Value', 'Tax Billed Amount', 'Last Sold Price',\n",
        "       'Prior Sale Price', 'Lead Created Date', 'download_date']\n",
        "\n",
        "# Reorder columns\n",
        "df = df[column_order]"
      ],
      "metadata": {
        "id": "DXxTO-K3UXPq"
      },
      "execution_count": null,
      "outputs": []
    },
    {
      "cell_type": "code",
      "source": [
        "df.columns"
      ],
      "metadata": {
        "colab": {
          "base_uri": "https://localhost:8080/"
        },
        "id": "8CJEiGIWGLcv",
        "outputId": "6f535416-9a53-4bcb-aa54-641b93ec9cca"
      },
      "execution_count": null,
      "outputs": [
        {
          "output_type": "execute_result",
          "data": {
            "text/plain": [
              "Index(['First Name', 'Last Name', 'Phone Area Code', 'Phone Number',\n",
              "       'Email Address', 'Lead Status', 'score', 'Lead Quality', 'Lead Source',\n",
              "       'Campaign Name', 'Property Street Address', 'Property City',\n",
              "       'Property State', 'Property Zip', 'Mailing Address', 'Bedroom',\n",
              "       'Bathroom', 'Apporx Sqft', 'Lot Size Sqft', 'Year Buit', 'House Type',\n",
              "       'Mortgage Amount', 'Tax Assessed Value', 'Tax Billed Amount',\n",
              "       'Last Sold Price', 'Prior Sale Price', 'Lead Created Date',\n",
              "       'download_date'],\n",
              "      dtype='object')"
            ]
          },
          "metadata": {},
          "execution_count": 20
        }
      ]
    },
    {
      "cell_type": "code",
      "source": [
        "df.loc[df['Phone Area Code'].isnull()]"
      ],
      "metadata": {
        "colab": {
          "base_uri": "https://localhost:8080/",
          "height": 231
        },
        "id": "dnenyRGYFcdu",
        "outputId": "226e5a12-2233-4571-a770-a821515ac180"
      },
      "execution_count": null,
      "outputs": [
        {
          "output_type": "execute_result",
          "data": {
            "text/plain": [
              "     First Name Last Name Phone Area Code Phone Number Email Address  \\\n",
              "1732        NaN       NaN             NaN   +266696687           NaN   \n",
              "1733        NaN       NaN             NaN    266696687           NaN   \n",
              "\n",
              "     Lead Status  score Lead Quality   Lead Source Campaign Name  ...  \\\n",
              "1732   Dead Lead      0          Bad  Cold Calling  Cold Callers  ...   \n",
              "1733   Dead Lead      0          Bad  Cold Calling  Cold Callers  ...   \n",
              "\n",
              "     Lot Size Sqft Year Buit House Type Mortgage Amount Tax Assessed Value  \\\n",
              "1732           NaN       NaN        NaN             NaN                NaN   \n",
              "1733           NaN       NaN        NaN             NaN                NaN   \n",
              "\n",
              "      Tax Billed Amount  Last Sold Price  Prior Sale Price Lead Created Date  \\\n",
              "1732                NaN              NaN               NaN        2024-04-10   \n",
              "1733                NaN              NaN               NaN           4/10/24   \n",
              "\n",
              "      download_date  \n",
              "1732     2024-05-21  \n",
              "1733     2024-05-26  \n",
              "\n",
              "[2 rows x 28 columns]"
            ],
            "text/html": [
              "\n",
              "  <div id=\"df-7984b0df-7fea-437d-8c57-5161f70fb95e\" class=\"colab-df-container\">\n",
              "    <div>\n",
              "<style scoped>\n",
              "    .dataframe tbody tr th:only-of-type {\n",
              "        vertical-align: middle;\n",
              "    }\n",
              "\n",
              "    .dataframe tbody tr th {\n",
              "        vertical-align: top;\n",
              "    }\n",
              "\n",
              "    .dataframe thead th {\n",
              "        text-align: right;\n",
              "    }\n",
              "</style>\n",
              "<table border=\"1\" class=\"dataframe\">\n",
              "  <thead>\n",
              "    <tr style=\"text-align: right;\">\n",
              "      <th></th>\n",
              "      <th>First Name</th>\n",
              "      <th>Last Name</th>\n",
              "      <th>Phone Area Code</th>\n",
              "      <th>Phone Number</th>\n",
              "      <th>Email Address</th>\n",
              "      <th>Lead Status</th>\n",
              "      <th>score</th>\n",
              "      <th>Lead Quality</th>\n",
              "      <th>Lead Source</th>\n",
              "      <th>Campaign Name</th>\n",
              "      <th>...</th>\n",
              "      <th>Lot Size Sqft</th>\n",
              "      <th>Year Buit</th>\n",
              "      <th>House Type</th>\n",
              "      <th>Mortgage Amount</th>\n",
              "      <th>Tax Assessed Value</th>\n",
              "      <th>Tax Billed Amount</th>\n",
              "      <th>Last Sold Price</th>\n",
              "      <th>Prior Sale Price</th>\n",
              "      <th>Lead Created Date</th>\n",
              "      <th>download_date</th>\n",
              "    </tr>\n",
              "  </thead>\n",
              "  <tbody>\n",
              "    <tr>\n",
              "      <th>1732</th>\n",
              "      <td>NaN</td>\n",
              "      <td>NaN</td>\n",
              "      <td>NaN</td>\n",
              "      <td>+266696687</td>\n",
              "      <td>NaN</td>\n",
              "      <td>Dead Lead</td>\n",
              "      <td>0</td>\n",
              "      <td>Bad</td>\n",
              "      <td>Cold Calling</td>\n",
              "      <td>Cold Callers</td>\n",
              "      <td>...</td>\n",
              "      <td>NaN</td>\n",
              "      <td>NaN</td>\n",
              "      <td>NaN</td>\n",
              "      <td>NaN</td>\n",
              "      <td>NaN</td>\n",
              "      <td>NaN</td>\n",
              "      <td>NaN</td>\n",
              "      <td>NaN</td>\n",
              "      <td>2024-04-10</td>\n",
              "      <td>2024-05-21</td>\n",
              "    </tr>\n",
              "    <tr>\n",
              "      <th>1733</th>\n",
              "      <td>NaN</td>\n",
              "      <td>NaN</td>\n",
              "      <td>NaN</td>\n",
              "      <td>266696687</td>\n",
              "      <td>NaN</td>\n",
              "      <td>Dead Lead</td>\n",
              "      <td>0</td>\n",
              "      <td>Bad</td>\n",
              "      <td>Cold Calling</td>\n",
              "      <td>Cold Callers</td>\n",
              "      <td>...</td>\n",
              "      <td>NaN</td>\n",
              "      <td>NaN</td>\n",
              "      <td>NaN</td>\n",
              "      <td>NaN</td>\n",
              "      <td>NaN</td>\n",
              "      <td>NaN</td>\n",
              "      <td>NaN</td>\n",
              "      <td>NaN</td>\n",
              "      <td>4/10/24</td>\n",
              "      <td>2024-05-26</td>\n",
              "    </tr>\n",
              "  </tbody>\n",
              "</table>\n",
              "<p>2 rows × 28 columns</p>\n",
              "</div>\n",
              "    <div class=\"colab-df-buttons\">\n",
              "\n",
              "  <div class=\"colab-df-container\">\n",
              "    <button class=\"colab-df-convert\" onclick=\"convertToInteractive('df-7984b0df-7fea-437d-8c57-5161f70fb95e')\"\n",
              "            title=\"Convert this dataframe to an interactive table.\"\n",
              "            style=\"display:none;\">\n",
              "\n",
              "  <svg xmlns=\"http://www.w3.org/2000/svg\" height=\"24px\" viewBox=\"0 -960 960 960\">\n",
              "    <path d=\"M120-120v-720h720v720H120Zm60-500h600v-160H180v160Zm220 220h160v-160H400v160Zm0 220h160v-160H400v160ZM180-400h160v-160H180v160Zm440 0h160v-160H620v160ZM180-180h160v-160H180v160Zm440 0h160v-160H620v160Z\"/>\n",
              "  </svg>\n",
              "    </button>\n",
              "\n",
              "  <style>\n",
              "    .colab-df-container {\n",
              "      display:flex;\n",
              "      gap: 12px;\n",
              "    }\n",
              "\n",
              "    .colab-df-convert {\n",
              "      background-color: #E8F0FE;\n",
              "      border: none;\n",
              "      border-radius: 50%;\n",
              "      cursor: pointer;\n",
              "      display: none;\n",
              "      fill: #1967D2;\n",
              "      height: 32px;\n",
              "      padding: 0 0 0 0;\n",
              "      width: 32px;\n",
              "    }\n",
              "\n",
              "    .colab-df-convert:hover {\n",
              "      background-color: #E2EBFA;\n",
              "      box-shadow: 0px 1px 2px rgba(60, 64, 67, 0.3), 0px 1px 3px 1px rgba(60, 64, 67, 0.15);\n",
              "      fill: #174EA6;\n",
              "    }\n",
              "\n",
              "    .colab-df-buttons div {\n",
              "      margin-bottom: 4px;\n",
              "    }\n",
              "\n",
              "    [theme=dark] .colab-df-convert {\n",
              "      background-color: #3B4455;\n",
              "      fill: #D2E3FC;\n",
              "    }\n",
              "\n",
              "    [theme=dark] .colab-df-convert:hover {\n",
              "      background-color: #434B5C;\n",
              "      box-shadow: 0px 1px 3px 1px rgba(0, 0, 0, 0.15);\n",
              "      filter: drop-shadow(0px 1px 2px rgba(0, 0, 0, 0.3));\n",
              "      fill: #FFFFFF;\n",
              "    }\n",
              "  </style>\n",
              "\n",
              "    <script>\n",
              "      const buttonEl =\n",
              "        document.querySelector('#df-7984b0df-7fea-437d-8c57-5161f70fb95e button.colab-df-convert');\n",
              "      buttonEl.style.display =\n",
              "        google.colab.kernel.accessAllowed ? 'block' : 'none';\n",
              "\n",
              "      async function convertToInteractive(key) {\n",
              "        const element = document.querySelector('#df-7984b0df-7fea-437d-8c57-5161f70fb95e');\n",
              "        const dataTable =\n",
              "          await google.colab.kernel.invokeFunction('convertToInteractive',\n",
              "                                                    [key], {});\n",
              "        if (!dataTable) return;\n",
              "\n",
              "        const docLinkHtml = 'Like what you see? Visit the ' +\n",
              "          '<a target=\"_blank\" href=https://colab.research.google.com/notebooks/data_table.ipynb>data table notebook</a>'\n",
              "          + ' to learn more about interactive tables.';\n",
              "        element.innerHTML = '';\n",
              "        dataTable['output_type'] = 'display_data';\n",
              "        await google.colab.output.renderOutput(dataTable, element);\n",
              "        const docLink = document.createElement('div');\n",
              "        docLink.innerHTML = docLinkHtml;\n",
              "        element.appendChild(docLink);\n",
              "      }\n",
              "    </script>\n",
              "  </div>\n",
              "\n",
              "\n",
              "<div id=\"df-1b7c63ca-16bb-462d-9a8c-c25d74171134\">\n",
              "  <button class=\"colab-df-quickchart\" onclick=\"quickchart('df-1b7c63ca-16bb-462d-9a8c-c25d74171134')\"\n",
              "            title=\"Suggest charts\"\n",
              "            style=\"display:none;\">\n",
              "\n",
              "<svg xmlns=\"http://www.w3.org/2000/svg\" height=\"24px\"viewBox=\"0 0 24 24\"\n",
              "     width=\"24px\">\n",
              "    <g>\n",
              "        <path d=\"M19 3H5c-1.1 0-2 .9-2 2v14c0 1.1.9 2 2 2h14c1.1 0 2-.9 2-2V5c0-1.1-.9-2-2-2zM9 17H7v-7h2v7zm4 0h-2V7h2v10zm4 0h-2v-4h2v4z\"/>\n",
              "    </g>\n",
              "</svg>\n",
              "  </button>\n",
              "\n",
              "<style>\n",
              "  .colab-df-quickchart {\n",
              "      --bg-color: #E8F0FE;\n",
              "      --fill-color: #1967D2;\n",
              "      --hover-bg-color: #E2EBFA;\n",
              "      --hover-fill-color: #174EA6;\n",
              "      --disabled-fill-color: #AAA;\n",
              "      --disabled-bg-color: #DDD;\n",
              "  }\n",
              "\n",
              "  [theme=dark] .colab-df-quickchart {\n",
              "      --bg-color: #3B4455;\n",
              "      --fill-color: #D2E3FC;\n",
              "      --hover-bg-color: #434B5C;\n",
              "      --hover-fill-color: #FFFFFF;\n",
              "      --disabled-bg-color: #3B4455;\n",
              "      --disabled-fill-color: #666;\n",
              "  }\n",
              "\n",
              "  .colab-df-quickchart {\n",
              "    background-color: var(--bg-color);\n",
              "    border: none;\n",
              "    border-radius: 50%;\n",
              "    cursor: pointer;\n",
              "    display: none;\n",
              "    fill: var(--fill-color);\n",
              "    height: 32px;\n",
              "    padding: 0;\n",
              "    width: 32px;\n",
              "  }\n",
              "\n",
              "  .colab-df-quickchart:hover {\n",
              "    background-color: var(--hover-bg-color);\n",
              "    box-shadow: 0 1px 2px rgba(60, 64, 67, 0.3), 0 1px 3px 1px rgba(60, 64, 67, 0.15);\n",
              "    fill: var(--button-hover-fill-color);\n",
              "  }\n",
              "\n",
              "  .colab-df-quickchart-complete:disabled,\n",
              "  .colab-df-quickchart-complete:disabled:hover {\n",
              "    background-color: var(--disabled-bg-color);\n",
              "    fill: var(--disabled-fill-color);\n",
              "    box-shadow: none;\n",
              "  }\n",
              "\n",
              "  .colab-df-spinner {\n",
              "    border: 2px solid var(--fill-color);\n",
              "    border-color: transparent;\n",
              "    border-bottom-color: var(--fill-color);\n",
              "    animation:\n",
              "      spin 1s steps(1) infinite;\n",
              "  }\n",
              "\n",
              "  @keyframes spin {\n",
              "    0% {\n",
              "      border-color: transparent;\n",
              "      border-bottom-color: var(--fill-color);\n",
              "      border-left-color: var(--fill-color);\n",
              "    }\n",
              "    20% {\n",
              "      border-color: transparent;\n",
              "      border-left-color: var(--fill-color);\n",
              "      border-top-color: var(--fill-color);\n",
              "    }\n",
              "    30% {\n",
              "      border-color: transparent;\n",
              "      border-left-color: var(--fill-color);\n",
              "      border-top-color: var(--fill-color);\n",
              "      border-right-color: var(--fill-color);\n",
              "    }\n",
              "    40% {\n",
              "      border-color: transparent;\n",
              "      border-right-color: var(--fill-color);\n",
              "      border-top-color: var(--fill-color);\n",
              "    }\n",
              "    60% {\n",
              "      border-color: transparent;\n",
              "      border-right-color: var(--fill-color);\n",
              "    }\n",
              "    80% {\n",
              "      border-color: transparent;\n",
              "      border-right-color: var(--fill-color);\n",
              "      border-bottom-color: var(--fill-color);\n",
              "    }\n",
              "    90% {\n",
              "      border-color: transparent;\n",
              "      border-bottom-color: var(--fill-color);\n",
              "    }\n",
              "  }\n",
              "</style>\n",
              "\n",
              "  <script>\n",
              "    async function quickchart(key) {\n",
              "      const quickchartButtonEl =\n",
              "        document.querySelector('#' + key + ' button');\n",
              "      quickchartButtonEl.disabled = true;  // To prevent multiple clicks.\n",
              "      quickchartButtonEl.classList.add('colab-df-spinner');\n",
              "      try {\n",
              "        const charts = await google.colab.kernel.invokeFunction(\n",
              "            'suggestCharts', [key], {});\n",
              "      } catch (error) {\n",
              "        console.error('Error during call to suggestCharts:', error);\n",
              "      }\n",
              "      quickchartButtonEl.classList.remove('colab-df-spinner');\n",
              "      quickchartButtonEl.classList.add('colab-df-quickchart-complete');\n",
              "    }\n",
              "    (() => {\n",
              "      let quickchartButtonEl =\n",
              "        document.querySelector('#df-1b7c63ca-16bb-462d-9a8c-c25d74171134 button');\n",
              "      quickchartButtonEl.style.display =\n",
              "        google.colab.kernel.accessAllowed ? 'block' : 'none';\n",
              "    })();\n",
              "  </script>\n",
              "</div>\n",
              "\n",
              "    </div>\n",
              "  </div>\n"
            ],
            "application/vnd.google.colaboratory.intrinsic+json": {
              "type": "dataframe"
            }
          },
          "metadata": {},
          "execution_count": 21
        }
      ]
    },
    {
      "cell_type": "code",
      "source": [
        "df.isnull().sum()"
      ],
      "metadata": {
        "colab": {
          "base_uri": "https://localhost:8080/"
        },
        "id": "ua_FL6U1E8S0",
        "outputId": "61e35ebf-c47c-4a0e-b2a4-a4fe4e54c4b3"
      },
      "execution_count": null,
      "outputs": [
        {
          "output_type": "execute_result",
          "data": {
            "text/plain": [
              "First Name                   76\n",
              "Last Name                   170\n",
              "Phone Area Code               2\n",
              "Phone Number                  0\n",
              "Email Address              1579\n",
              "Lead Status                   0\n",
              "score                         0\n",
              "Lead Quality                  0\n",
              "Lead Source                   0\n",
              "Campaign Name                92\n",
              "Property Street Address     117\n",
              "Property City               119\n",
              "Property State              121\n",
              "Property Zip                227\n",
              "Mailing Address             536\n",
              "Bedroom                     925\n",
              "Bathroom                    747\n",
              "Apporx Sqft                 547\n",
              "Lot Size Sqft               611\n",
              "Year Buit                   548\n",
              "House Type                  529\n",
              "Mortgage Amount            1147\n",
              "Tax Assessed Value          536\n",
              "Tax Billed Amount           566\n",
              "Last Sold Price             934\n",
              "Prior Sale Price           1061\n",
              "Lead Created Date             0\n",
              "download_date                 0\n",
              "dtype: int64"
            ]
          },
          "metadata": {},
          "execution_count": 22
        }
      ]
    },
    {
      "cell_type": "code",
      "source": [
        "#download df to computer\n",
        "df.to_csv('clean_df.csv', index=False)"
      ],
      "metadata": {
        "id": "n9p_Md8mVKWg"
      },
      "execution_count": null,
      "outputs": []
    }
  ]
}