{
  "nbformat": 4,
  "nbformat_minor": 0,
  "metadata": {
    "colab": {
      "provenance": []
    },
    "kernelspec": {
      "name": "python3",
      "display_name": "Python 3"
    },
    "language_info": {
      "name": "python"
    }
  },
  "cells": [
    {
      "cell_type": "code",
      "source": [
        "import pandas as pd\n",
        "import numpy as np\n",
        "!pip install rapidfuzz\n",
        "from rapidfuzz import process, fuzz"
      ],
      "metadata": {
        "id": "E0Q2dLva_0hK"
      },
      "execution_count": null,
      "outputs": []
    },
    {
      "cell_type": "markdown",
      "source": [
        "# combine Lead Data with raw propert data"
      ],
      "metadata": {
        "id": "ZqiXF6veoz9T"
      }
    },
    {
      "cell_type": "code",
      "execution_count": null,
      "metadata": {
        "id": "VbGODOVl8qyU"
      },
      "outputs": [],
      "source": [
        "df = pd.read_csv('clean_df.csv')"
      ]
    },
    {
      "cell_type": "code",
      "source": [
        "#load property data from other source to 1: attempt to fill null values from REsimpli data,\n",
        "#2: create onle large dataframe for model\n",
        "\n",
        "k = pd.read_csv('Kahila County full data.csv')\n",
        "b = pd.read_csv('Broward County full data.csv')\n",
        "b2 = pd.read_csv('Broward raw.csv')\n",
        "p = pd.read_csv('Palm beach raw.csv')\n",
        "p2 = pd.read_csv('Pasco raw.csv')\n",
        "\n",
        "#merge the data\n",
        "kb = pd.concat([k, b, b2, p, p2], ignore_index=True)\n",
        "kb.shape"
      ],
      "metadata": {
        "colab": {
          "base_uri": "https://localhost:8080/"
        },
        "id": "vwCRxm4CO3Ub",
        "outputId": "a6891b62-d8f0-4e12-b1c5-ca822b1e4fa6"
      },
      "execution_count": null,
      "outputs": [
        {
          "output_type": "execute_result",
          "data": {
            "text/plain": [
              "(145705, 41)"
            ]
          },
          "metadata": {},
          "execution_count": 77
        }
      ]
    },
    {
      "cell_type": "code",
      "source": [
        "kb.columns"
      ],
      "metadata": {
        "colab": {
          "base_uri": "https://localhost:8080/"
        },
        "id": "ItxyorSqlHJW",
        "outputId": "2f29c339-e5d4-495c-a252-9cbb383f8d93",
        "collapsed": true
      },
      "execution_count": null,
      "outputs": [
        {
          "output_type": "execute_result",
          "data": {
            "text/plain": [
              "Index(['Address', 'Unit #', 'City', 'State', 'Zip', 'County', 'APN',\n",
              "       'Owner Occupied', 'Owner 1 First Name', 'Owner 1 Last Name',\n",
              "       'Owner 2 First Name', 'Owner 2 Last Name', 'Mailing Care of Name',\n",
              "       'Mailing Address', 'Mailing Unit #', 'Mailing City', 'Mailing State',\n",
              "       'Mailing Zip', 'Mailing County', 'Do Not Mail', 'Property Type',\n",
              "       'Bedrooms', 'Total Bathrooms', 'Building Sqft', 'Lot Size Sqft',\n",
              "       'Effective Year Built', 'Total Assessed Value',\n",
              "       'Last Sale Recording Date', 'Last Sale Amount', 'Total Open Loans',\n",
              "       'Est. Remaining balance of Open Loans', 'Est. Value',\n",
              "       'Est. Loan-to-Value', 'Est. Equity', 'MLS Status', 'MLS Date',\n",
              "       'MLS Amount', 'Lien Amount', 'Marketing Lists', 'Date Added to List',\n",
              "       'Method of Add'],\n",
              "      dtype='object')"
            ]
          },
          "metadata": {},
          "execution_count": 78
        }
      ]
    },
    {
      "cell_type": "code",
      "source": [
        "df.columns"
      ],
      "metadata": {
        "colab": {
          "base_uri": "https://localhost:8080/"
        },
        "id": "Qtrdx5QD_6fh",
        "outputId": "15399127-fb7f-4939-d9d3-6418bfd282b2",
        "collapsed": true
      },
      "execution_count": null,
      "outputs": [
        {
          "output_type": "execute_result",
          "data": {
            "text/plain": [
              "Index(['First Name', 'Last Name', 'Phone Area Code', 'Phone Number',\n",
              "       'Email Address', 'Lead Status', 'score', 'Lead Quality', 'Lead Source',\n",
              "       'Campaign Name', 'Property Street Address', 'Property City',\n",
              "       'Property State', 'Property Zip', 'Mailing Street Address',\n",
              "       'Mailing City', 'Mailing State', 'Mailing Zip', 'Bedroom', 'Bathroom',\n",
              "       'Apporx Sqft', 'Lot Size Sqft', 'Year Buit', 'House Type',\n",
              "       'Mortgage Amount', 'Tax Assessed Value', 'Tax Billed Amount',\n",
              "       'Last Sold Price', 'Prior Sale Price', 'Lead Created Date',\n",
              "       'download_date'],\n",
              "      dtype='object')"
            ]
          },
          "metadata": {},
          "execution_count": 79
        }
      ]
    },
    {
      "cell_type": "code",
      "source": [
        "#ensure tax and last sold are numeric\n",
        "df['Tax Assessed Value'] =  df['Tax Assessed Value'].str.replace(' ', '') \\\n",
        "                         .str.replace('$', '') \\\n",
        "                         .str.replace(',', '')\n",
        "df['Tax Assessed Value'] = pd.to_numeric(df['Tax Assessed Value'])\n",
        "\n",
        "df['Last Sold Price'] =  df['Last Sold Price'].str.replace(' ', '') \\\n",
        "                         .str.replace('$', '') \\\n",
        "                         .str.replace(',', '')\n",
        "df['Last Sold Price'] = pd.to_numeric(df['Last Sold Price'])"
      ],
      "metadata": {
        "collapsed": true,
        "id": "km8zGDol6ETx"
      },
      "execution_count": null,
      "outputs": []
    },
    {
      "cell_type": "code",
      "source": [
        "#prepare to combine lists\n",
        "\n",
        "#creating necessary columns\n",
        "kb[['Lead Status', 'Lead Quality', 'Lead Source', 'Campaign Name', 'Lead Created Date', 'download_date', 'Phone Number', 'Phone Area Code']] = 'None'\n",
        "kb['score'] = -3\n",
        "\n",
        "#renaming columns\n",
        "kb.rename(columns={'Mailing Address': 'Mailing Street Address'}, inplace=True)\n",
        "kb.rename(columns={'Property Type': 'House Type'}, inplace=True)\n",
        "kb.rename(columns={'Bedrooms': 'Bedroom'}, inplace=True)\n",
        "kb.rename(columns={'Total Bathrooms': 'Bathroom'}, inplace=True)\n",
        "kb.rename(columns={'Building Sqft': 'Apporx Sqft'}, inplace=True)\n",
        "kb.rename(columns={'Lot Size Sqft': 'Lot Size Sqft'}, inplace=True)\n",
        "kb.rename(columns={'Last Sale Amount' : 'Last Sold Price'}, inplace=True)\n",
        "kb.rename(columns={'Address' : 'Property Street Address'}, inplace=True)\n",
        "kb.rename(columns={'City' : 'Property City'}, inplace=True)\n",
        "kb.rename(columns={'State' : 'Property State'}, inplace=True)\n",
        "kb.rename(columns={'Zip' : 'Property Zip'}, inplace=True)\n",
        "kb.rename(columns={'Owner 1 First Name' : 'First Name'}, inplace=True)\n",
        "kb.rename(columns={'Owner 1 Last Name' : 'Last Name'}, inplace=True)\n",
        "\n",
        "df.rename(columns={'Year Buit' : 'Effective Year Built'}, inplace=True)\n",
        "\n",
        "#dropping columns from kb that dont match df and vice versa\n",
        "dropkb = ['Unit #', 'APN', 'Owner Occupied', 'Owner 2 First Name', 'Owner 2 Last Name', 'Mailing Care of Name',\n",
        "        'Mailing Unit #', 'Mailing County', 'Do Not Mail',\n",
        "       'Last Sale Recording Date', 'Total Open Loans',\n",
        "       'Est. Remaining balance of Open Loans', 'Est. Value',\n",
        "       'Est. Loan-to-Value', 'Est. Equity', 'MLS Status', 'MLS Date',\n",
        "       'MLS Amount', 'Lien Amount', 'Marketing Lists','Date Added to List',\n",
        "       'Method of Add', 'County']\n",
        "\n",
        "dropdf = ['Email Address', 'Tax Billed Amount', 'Prior Sale Price', 'Mortgage Amount']\n",
        "\n",
        "kb.drop(dropkb, axis=1, inplace=True)\n",
        "df.drop(dropdf, axis=1, inplace=True)"
      ],
      "metadata": {
        "collapsed": true,
        "id": "KxaExNdJzQpz"
      },
      "execution_count": null,
      "outputs": []
    },
    {
      "cell_type": "code",
      "source": [
        "df['Tax Assessed Value'].min()"
      ],
      "metadata": {
        "colab": {
          "base_uri": "https://localhost:8080/"
        },
        "id": "OKkYyswcaswj",
        "outputId": "c7682abf-9133-445e-940d-9226ec66dbb0"
      },
      "execution_count": null,
      "outputs": [
        {
          "output_type": "execute_result",
          "data": {
            "text/plain": [
              "397.0"
            ]
          },
          "metadata": {},
          "execution_count": 82
        }
      ]
    },
    {
      "cell_type": "code",
      "source": [
        "lowest_unique_values = kb['Total Assessed Value'].sort_values().drop_duplicates().head(10)\n",
        "lowest_unique_values"
      ],
      "metadata": {
        "colab": {
          "base_uri": "https://localhost:8080/"
        },
        "id": "S4AT6l1BbSi1",
        "outputId": "c2777ef1-0f6a-4639-8a92-3e7d9cca0310"
      },
      "execution_count": null,
      "outputs": [
        {
          "output_type": "execute_result",
          "data": {
            "text/plain": [
              "23046       10\n",
              "74647     2429\n",
              "98913     2599\n",
              "101691    4260\n",
              "50491     5080\n",
              "128929    5320\n",
              "142325    5567\n",
              "143661    6073\n",
              "134625    6140\n",
              "55602     6169\n",
              "Name: Total Assessed Value, dtype: int64"
            ]
          },
          "metadata": {},
          "execution_count": 83
        }
      ]
    },
    {
      "cell_type": "code",
      "source": [
        "kb['Total Assessed Value']"
      ],
      "metadata": {
        "colab": {
          "base_uri": "https://localhost:8080/"
        },
        "id": "igDmQ6ZMadTZ",
        "outputId": "d8ef8092-8fdc-499b-9da3-7c681f3c5c2d"
      },
      "execution_count": null,
      "outputs": [
        {
          "output_type": "execute_result",
          "data": {
            "text/plain": [
              "0          67870\n",
              "1          95650\n",
              "2         133230\n",
              "3          30310\n",
              "4          30390\n",
              "           ...  \n",
              "145700    264380\n",
              "145701    235110\n",
              "145702    203340\n",
              "145703     59520\n",
              "145704    255710\n",
              "Name: Total Assessed Value, Length: 145705, dtype: int64"
            ]
          },
          "metadata": {},
          "execution_count": 84
        }
      ]
    },
    {
      "cell_type": "code",
      "source": [
        "kb.isnull().sum()"
      ],
      "metadata": {
        "colab": {
          "base_uri": "https://localhost:8080/"
        },
        "collapsed": true,
        "id": "dJC-qHmv1vxK",
        "outputId": "0f64644a-2c63-4d20-ec7c-6a8a6f263a3b"
      },
      "execution_count": null,
      "outputs": [
        {
          "output_type": "execute_result",
          "data": {
            "text/plain": [
              "Property Street Address       14\n",
              "Property City                 14\n",
              "Property State                 0\n",
              "Property Zip                  18\n",
              "First Name                 19920\n",
              "Last Name                     25\n",
              "Mailing Street Address        35\n",
              "Mailing City                  76\n",
              "Mailing State                 49\n",
              "Mailing Zip                   88\n",
              "House Type                     0\n",
              "Bedroom                    39325\n",
              "Bathroom                    6955\n",
              "Apporx Sqft                    8\n",
              "Lot Size Sqft               1163\n",
              "Effective Year Built         528\n",
              "Total Assessed Value           0\n",
              "Last Sold Price             4537\n",
              "Lead Status                    0\n",
              "Lead Quality                   0\n",
              "Lead Source                    0\n",
              "Campaign Name                  0\n",
              "Lead Created Date              0\n",
              "download_date                  0\n",
              "Phone Number                   0\n",
              "Phone Area Code                0\n",
              "score                          0\n",
              "dtype: int64"
            ]
          },
          "metadata": {},
          "execution_count": 85
        }
      ]
    },
    {
      "cell_type": "code",
      "source": [
        "#convert df Total assessed value to approximate Tax assessed value using average Florida laws\n",
        "\n",
        "homestead_exemption = 50000\n",
        "soh_cap_adjustment = 0.03\n",
        "\n",
        "def calculate_tax_assessed_value(row):\n",
        "    adjusted_value = row['Total Assessed Value'] - homestead_exemption\n",
        "    taxable_value = adjusted_value * (1 - soh_cap_adjustment)\n",
        "    return max(taxable_value, 0)\n",
        "\n",
        "# Apply the function to each row\n",
        "kb['Tax Assessed Value'] = kb.apply(calculate_tax_assessed_value, axis=1)\n",
        "\n",
        "kb.drop(columns=['Total Assessed Value'], inplace=True)"
      ],
      "metadata": {
        "id": "F015a_TCcank"
      },
      "execution_count": null,
      "outputs": []
    },
    {
      "cell_type": "code",
      "source": [
        "kb['Tax Assessed Value'].min()"
      ],
      "metadata": {
        "colab": {
          "base_uri": "https://localhost:8080/"
        },
        "id": "-DvXeK0R8HJV",
        "outputId": "969032eb-8098-4f68-edfe-1319e181b181"
      },
      "execution_count": null,
      "outputs": [
        {
          "output_type": "execute_result",
          "data": {
            "text/plain": [
              "0.0"
            ]
          },
          "metadata": {},
          "execution_count": 87
        }
      ]
    },
    {
      "cell_type": "code",
      "source": [
        "# Reorder columns\n",
        "column_order = ['First Name', 'Last Name', 'Phone Area Code', 'Phone Number',\n",
        "      'Lead Status', 'score', 'Lead Quality', 'Lead Source',\n",
        "       'Campaign Name', 'Property Street Address', 'Property City',\n",
        "       'Property State', 'Property Zip', 'Mailing Street Address',\n",
        "       'Mailing City', 'Mailing State', 'Mailing Zip', 'Bedroom', 'Bathroom',\n",
        "       'Apporx Sqft', 'Lot Size Sqft', 'Effective Year Built', 'House Type',\n",
        "       'Tax Assessed Value',\n",
        "       'Last Sold Price', 'Lead Created Date',\n",
        "       'download_date']\n",
        "\n",
        "\n",
        "df = df[column_order]\n",
        "kb = kb[column_order]"
      ],
      "metadata": {
        "id": "Meqs0OgIdZHR"
      },
      "execution_count": null,
      "outputs": []
    },
    {
      "cell_type": "code",
      "source": [
        "# See if any of same propertys based on matching property addresses\n",
        "kb.rename(columns={'Address': 'Property Street Address'}, inplace=True)\n",
        "\n",
        "# Preprocess columns to lower case and strip whitespace\n",
        "df['Property Street Address'] = df['Property Street Address'].str.lower().str.strip()\n",
        "kb['Property Street Address'] = kb['Property Street Address'].str.lower().str.strip()\n",
        "\n",
        "# Check for matches\n",
        "matches = kb['Property Street Address'].isin(df['Property Street Address'])\n",
        "print(matches.sum())\n",
        "\n",
        "#432 matches"
      ],
      "metadata": {
        "colab": {
          "base_uri": "https://localhost:8080/"
        },
        "collapsed": true,
        "id": "JYU2HgZ5oN4g",
        "outputId": "f5f1ab91-0d22-4019-e8a8-628d522a12c8"
      },
      "execution_count": null,
      "outputs": [
        {
          "output_type": "stream",
          "name": "stdout",
          "text": [
            "432\n"
          ]
        }
      ]
    },
    {
      "cell_type": "code",
      "source": [
        "#try to do the same using rapidfuzz\n",
        "\n",
        "#Function to find matches using rapidfuzz\n",
        "# def find_matches(df1, df2, column, threshold=90):\n",
        "#     matches = []\n",
        "#     for index, value in df1[column].items():\n",
        "#         if pd.isna(value) or value.strip() == \"\":\n",
        "#             continue  # Skip if the value is NaN or an empty string\n",
        "#         match, score, _ = process.extractOne(value, df2[column].dropna().str.strip(), scorer=fuzz.token_sort_ratio)\n",
        "#         if score >= threshold:\n",
        "#             matches.append((value, match, score))\n",
        "#     return matches\n",
        "\n",
        "# # Preprocess columns to lower case and strip whitespace\n",
        "# df['Property Street Address'] = df['Property Street Address'].str.lower().str.strip()\n",
        "# kb['Property Street Address'] = kb['Property Street Address'].str.lower().str.strip()\n",
        "\n",
        "# # Find and display matches with a threshold of 95\n",
        "# matches2 = find_matches(df, kb, 'Property Street Address', threshold=90)\n",
        "\n",
        "# # Convert matches to a DataFrame\n",
        "# matches_df2 = pd.DataFrame(matches, columns=['address_df_A', 'address_df_B', 'similarity_score'])\n",
        "\n",
        "# # Count the number of matches\n",
        "# num_matches2 = len(matches_df2)\n",
        "\n",
        "# print(f\"Number of matching addresses: {num_matches2}\")\n",
        "# print(\"Matching addresses:\")\n",
        "# print(matches_df2)\n",
        "\n",
        "#unfortunatly with a treshhold of 90 and 95, the output was questionsable.\n"
      ],
      "metadata": {
        "collapsed": true,
        "id": "dCta9FZZuFfP"
      },
      "execution_count": null,
      "outputs": []
    },
    {
      "cell_type": "code",
      "source": [
        "df['Phone Area Code'].fillna('None', inplace=True)\n",
        "df['Campaign Name'].fillna('Other', inplace=True)"
      ],
      "metadata": {
        "id": "U0dpJMaj1Ixh"
      },
      "execution_count": null,
      "outputs": []
    },
    {
      "cell_type": "code",
      "source": [
        "# Update specific columns in df with values from kb based on matches, and then combine without overlapping\n",
        "\n",
        "# Columns to update\n",
        "update_columns = ['Mailing Street Address', 'Mailing City', 'Mailing State',\n",
        "       'Mailing Zip', 'House Type', 'Bedroom', 'Bathroom', 'Apporx Sqft',\n",
        "                     'Lot Size Sqft', 'Last Sold Price', 'Effective Year Built']\n",
        "\n",
        "# Function to fill and combine\n",
        "def fill_and_combine(df1, df2, match_column, update_columns):\n",
        "    # Merge df and kb on the match_column\n",
        "    merged_df = df.merge(kb, on=match_column, how='left', suffixes=('', '_kb'))\n",
        "\n",
        "    # Fill missing values in df columns with corresponding values from kb only if df values are empty\n",
        "    for column in update_columns:\n",
        "        original_col = merged_df[column]\n",
        "        update_col = merged_df[f'{column}_kb']\n",
        "\n",
        "        # Replace only if the original column has empty values\n",
        "        merged_df[column] = np.where(original_col.isna() | (original_col == ''), update_col, original_col)\n",
        "        merged_df.drop(columns=[f'{column}_kb'], inplace=True)\n",
        "\n",
        "    # Extract updated df\n",
        "    updated_df = merged_df[df.columns]\n",
        "\n",
        "    # Find unique rows in kb that are not in df\n",
        "    combined_df = pd.concat([updated_df, kb]).drop_duplicates(subset=[match_column], keep='last').reset_index(drop=True)\n",
        "\n",
        "    return combined_df\n",
        "\n",
        "\n",
        "# Apply the function\n",
        "result_df = fill_and_combine(df, kb, match_column='Property Street Address', update_columns=update_columns)"
      ],
      "metadata": {
        "id": "F0JSvqNWx4gV"
      },
      "execution_count": null,
      "outputs": []
    },
    {
      "cell_type": "code",
      "source": [
        "#after combined, add a column for are the property and mailing addresses the same\n",
        "result_df['same_address'] = np.where(\n",
        "    (result_df['Property Street Address'].isna()) | (result_df['Mailing Street Address'].isna()),\n",
        "    'unknown',\n",
        "    np.where(result_df['Property Street Address'] == result_df['Mailing Street Address'], 'yes', 'no')\n",
        ")"
      ],
      "metadata": {
        "id": "yTdphxekoNU8"
      },
      "execution_count": null,
      "outputs": []
    },
    {
      "cell_type": "code",
      "source": [
        "result_df.shape"
      ],
      "metadata": {
        "colab": {
          "base_uri": "https://localhost:8080/"
        },
        "id": "EYYPYRCx9p9O",
        "outputId": "7d400f13-5def-4c45-bf0f-8b3367400055",
        "collapsed": true
      },
      "execution_count": null,
      "outputs": [
        {
          "output_type": "execute_result",
          "data": {
            "text/plain": [
              "(129673, 28)"
            ]
          },
          "metadata": {},
          "execution_count": 97
        }
      ]
    },
    {
      "cell_type": "code",
      "source": [
        "result_df.isnull().sum()"
      ],
      "metadata": {
        "colab": {
          "base_uri": "https://localhost:8080/"
        },
        "id": "UsBdjxlF2CJ1",
        "outputId": "0565535b-59bb-4275-85e0-668707f71084"
      },
      "execution_count": null,
      "outputs": [
        {
          "output_type": "execute_result",
          "data": {
            "text/plain": [
              "First Name                 17511\n",
              "Last Name                    108\n",
              "Phone Area Code                0\n",
              "Phone Number                   0\n",
              "Lead Status                    0\n",
              "score                          0\n",
              "Lead Quality                   0\n",
              "Lead Source                    0\n",
              "Campaign Name                  0\n",
              "Property Street Address        1\n",
              "Property City                  3\n",
              "Property State                 4\n",
              "Property Zip                 108\n",
              "Mailing Street Address       414\n",
              "Mailing City                 447\n",
              "Mailing State                427\n",
              "Mailing Zip                  461\n",
              "Bedroom                    38118\n",
              "Bathroom                    6667\n",
              "Apporx Sqft                  396\n",
              "Lot Size Sqft                785\n",
              "Effective Year Built         651\n",
              "House Type                   372\n",
              "Tax Assessed Value           379\n",
              "Last Sold Price             4552\n",
              "Lead Created Date              0\n",
              "download_date                  0\n",
              "same_address                   0\n",
              "dtype: int64"
            ]
          },
          "metadata": {},
          "execution_count": 98
        }
      ]
    },
    {
      "cell_type": "code",
      "source": [
        "#Renaming improper States\n",
        "result_df['Property State'].unique()\n",
        "result_df['Property State'].replace('Boca', 'FL', inplace = True)"
      ],
      "metadata": {
        "collapsed": true,
        "id": "OyN_oyh6D0s2"
      },
      "execution_count": null,
      "outputs": []
    },
    {
      "cell_type": "code",
      "source": [
        "#Renaming Improper Cities\n",
        "result_df['Property City']. unique()\n",
        "result_df['Property City'].replace(' DANIA BEACH FL 33004  ', 'Dania Beach', inplace = True)\n",
        "result_df['Property City'].replace([' Florida 34972', ' FL 33308'], 'Unknown', inplace = True )"
      ],
      "metadata": {
        "collapsed": true,
        "id": "TLcvB0nlC4n5"
      },
      "execution_count": null,
      "outputs": []
    },
    {
      "cell_type": "code",
      "source": [
        "#grouping house types\n",
        "result_df['House Type'].replace(['SingleFamily','Single family', 'Residential (General) (Single)']\n",
        "                                , 'Single Family Residential', inplace = True)\n",
        "\n",
        "result_df['House Type'].replace(['MultiFamily','Multi-Family Dwellings (Generic, 2+)',  ], 'Multi-Unit/Multi-Family Residential', inplace = True)\n",
        "\n",
        "result_df['House Type'].replace(['Residential Miscellaneous','Residential Common Area (Condo/PUD/etc.)'], 'Residential', inplace = True)\n",
        "\n",
        "result_df['House Type'].replace('Duplex ', 'Duplex (2 units, any combination)', inplace = True)\n"
      ],
      "metadata": {
        "id": "o3RWgCnLoyTo"
      },
      "execution_count": null,
      "outputs": []
    },
    {
      "cell_type": "code",
      "source": [
        "result_df.isnull().sum()"
      ],
      "metadata": {
        "colab": {
          "base_uri": "https://localhost:8080/"
        },
        "id": "J0iVgqBPK-v-",
        "outputId": "a4dde08e-bfe4-496d-835c-795bbd99dc18",
        "collapsed": true
      },
      "execution_count": null,
      "outputs": [
        {
          "output_type": "execute_result",
          "data": {
            "text/plain": [
              "First Name                 17511\n",
              "Last Name                    108\n",
              "Phone Area Code                0\n",
              "Phone Number                   0\n",
              "Lead Status                    0\n",
              "score                          0\n",
              "Lead Quality                   0\n",
              "Lead Source                    0\n",
              "Campaign Name                  0\n",
              "Property Street Address        1\n",
              "Property City                  3\n",
              "Property State                 4\n",
              "Property Zip                 108\n",
              "Mailing Street Address       414\n",
              "Mailing City                 447\n",
              "Mailing State                427\n",
              "Mailing Zip                  461\n",
              "Bedroom                    38118\n",
              "Bathroom                    6667\n",
              "Apporx Sqft                  396\n",
              "Lot Size Sqft                785\n",
              "Effective Year Built         651\n",
              "House Type                   372\n",
              "Tax Assessed Value           379\n",
              "Last Sold Price             4552\n",
              "Lead Created Date              0\n",
              "download_date                  0\n",
              "same_address                   0\n",
              "dtype: int64"
            ]
          },
          "metadata": {},
          "execution_count": 102
        }
      ]
    },
    {
      "cell_type": "code",
      "source": [
        "#making sure numeric values stored numericly\n",
        "# result_df['Last Sold Price'] = pd.to_numeric(result_df['Last Sold Price'], errors='coerce')\n",
        "# result_df['Tax Assessed Value'] = pd.to_numeric(result_df['Tax Assessed Value'], errors='coerce')"
      ],
      "metadata": {
        "colab": {
          "base_uri": "https://localhost:8080/",
          "height": 329
        },
        "collapsed": true,
        "id": "KRgFIMZ2z_5P",
        "outputId": "13f9e298-d87e-4b97-dacb-197e76688421"
      },
      "execution_count": null,
      "outputs": [
        {
          "output_type": "error",
          "ename": "AttributeError",
          "evalue": "Can only use .str accessor with string values!",
          "traceback": [
            "\u001b[0;31m---------------------------------------------------------------------------\u001b[0m",
            "\u001b[0;31mAttributeError\u001b[0m                            Traceback (most recent call last)",
            "\u001b[0;32m<ipython-input-104-3c6f4ff91852>\u001b[0m in \u001b[0;36m<cell line: 6>\u001b[0;34m()\u001b[0m\n\u001b[1;32m      4\u001b[0m \u001b[0;34m\u001b[0m\u001b[0m\n\u001b[1;32m      5\u001b[0m \u001b[0;31m#df['Last Sold Price'] = df['Last Sold Price'].str.replace('$', '')\u001b[0m\u001b[0;34m\u001b[0m\u001b[0;34m\u001b[0m\u001b[0m\n\u001b[0;32m----> 6\u001b[0;31m \u001b[0mdf\u001b[0m\u001b[0;34m[\u001b[0m\u001b[0;34m'Tax Assessed Value'\u001b[0m\u001b[0;34m]\u001b[0m \u001b[0;34m=\u001b[0m \u001b[0mdf\u001b[0m\u001b[0;34m[\u001b[0m\u001b[0;34m'Tax Assessed Value'\u001b[0m\u001b[0;34m]\u001b[0m\u001b[0;34m.\u001b[0m\u001b[0mstr\u001b[0m\u001b[0;34m.\u001b[0m\u001b[0mreplace\u001b[0m\u001b[0;34m(\u001b[0m\u001b[0;34m'$'\u001b[0m\u001b[0;34m,\u001b[0m \u001b[0;34m''\u001b[0m\u001b[0;34m)\u001b[0m\u001b[0;34m\u001b[0m\u001b[0;34m\u001b[0m\u001b[0m\n\u001b[0m",
            "\u001b[0;32m/usr/local/lib/python3.10/dist-packages/pandas/core/generic.py\u001b[0m in \u001b[0;36m__getattr__\u001b[0;34m(self, name)\u001b[0m\n\u001b[1;32m   5987\u001b[0m         ):\n\u001b[1;32m   5988\u001b[0m             \u001b[0;32mreturn\u001b[0m \u001b[0mself\u001b[0m\u001b[0;34m[\u001b[0m\u001b[0mname\u001b[0m\u001b[0;34m]\u001b[0m\u001b[0;34m\u001b[0m\u001b[0;34m\u001b[0m\u001b[0m\n\u001b[0;32m-> 5989\u001b[0;31m         \u001b[0;32mreturn\u001b[0m \u001b[0mobject\u001b[0m\u001b[0;34m.\u001b[0m\u001b[0m__getattribute__\u001b[0m\u001b[0;34m(\u001b[0m\u001b[0mself\u001b[0m\u001b[0;34m,\u001b[0m \u001b[0mname\u001b[0m\u001b[0;34m)\u001b[0m\u001b[0;34m\u001b[0m\u001b[0;34m\u001b[0m\u001b[0m\n\u001b[0m\u001b[1;32m   5990\u001b[0m \u001b[0;34m\u001b[0m\u001b[0m\n\u001b[1;32m   5991\u001b[0m     \u001b[0;32mdef\u001b[0m \u001b[0m__setattr__\u001b[0m\u001b[0;34m(\u001b[0m\u001b[0mself\u001b[0m\u001b[0;34m,\u001b[0m \u001b[0mname\u001b[0m\u001b[0;34m:\u001b[0m \u001b[0mstr\u001b[0m\u001b[0;34m,\u001b[0m \u001b[0mvalue\u001b[0m\u001b[0;34m)\u001b[0m \u001b[0;34m->\u001b[0m \u001b[0;32mNone\u001b[0m\u001b[0;34m:\u001b[0m\u001b[0;34m\u001b[0m\u001b[0;34m\u001b[0m\u001b[0m\n",
            "\u001b[0;32m/usr/local/lib/python3.10/dist-packages/pandas/core/accessor.py\u001b[0m in \u001b[0;36m__get__\u001b[0;34m(self, obj, cls)\u001b[0m\n\u001b[1;32m    222\u001b[0m             \u001b[0;31m# we're accessing the attribute of the class, i.e., Dataset.geo\u001b[0m\u001b[0;34m\u001b[0m\u001b[0;34m\u001b[0m\u001b[0m\n\u001b[1;32m    223\u001b[0m             \u001b[0;32mreturn\u001b[0m \u001b[0mself\u001b[0m\u001b[0;34m.\u001b[0m\u001b[0m_accessor\u001b[0m\u001b[0;34m\u001b[0m\u001b[0;34m\u001b[0m\u001b[0m\n\u001b[0;32m--> 224\u001b[0;31m         \u001b[0maccessor_obj\u001b[0m \u001b[0;34m=\u001b[0m \u001b[0mself\u001b[0m\u001b[0;34m.\u001b[0m\u001b[0m_accessor\u001b[0m\u001b[0;34m(\u001b[0m\u001b[0mobj\u001b[0m\u001b[0;34m)\u001b[0m\u001b[0;34m\u001b[0m\u001b[0;34m\u001b[0m\u001b[0m\n\u001b[0m\u001b[1;32m    225\u001b[0m         \u001b[0;31m# Replace the property with the accessor object. Inspired by:\u001b[0m\u001b[0;34m\u001b[0m\u001b[0;34m\u001b[0m\u001b[0m\n\u001b[1;32m    226\u001b[0m         \u001b[0;31m# https://www.pydanny.com/cached-property.html\u001b[0m\u001b[0;34m\u001b[0m\u001b[0;34m\u001b[0m\u001b[0m\n",
            "\u001b[0;32m/usr/local/lib/python3.10/dist-packages/pandas/core/strings/accessor.py\u001b[0m in \u001b[0;36m__init__\u001b[0;34m(self, data)\u001b[0m\n\u001b[1;32m    179\u001b[0m         \u001b[0;32mfrom\u001b[0m \u001b[0mpandas\u001b[0m\u001b[0;34m.\u001b[0m\u001b[0mcore\u001b[0m\u001b[0;34m.\u001b[0m\u001b[0marrays\u001b[0m\u001b[0;34m.\u001b[0m\u001b[0mstring_\u001b[0m \u001b[0;32mimport\u001b[0m \u001b[0mStringDtype\u001b[0m\u001b[0;34m\u001b[0m\u001b[0;34m\u001b[0m\u001b[0m\n\u001b[1;32m    180\u001b[0m \u001b[0;34m\u001b[0m\u001b[0m\n\u001b[0;32m--> 181\u001b[0;31m         \u001b[0mself\u001b[0m\u001b[0;34m.\u001b[0m\u001b[0m_inferred_dtype\u001b[0m \u001b[0;34m=\u001b[0m \u001b[0mself\u001b[0m\u001b[0;34m.\u001b[0m\u001b[0m_validate\u001b[0m\u001b[0;34m(\u001b[0m\u001b[0mdata\u001b[0m\u001b[0;34m)\u001b[0m\u001b[0;34m\u001b[0m\u001b[0;34m\u001b[0m\u001b[0m\n\u001b[0m\u001b[1;32m    182\u001b[0m         \u001b[0mself\u001b[0m\u001b[0;34m.\u001b[0m\u001b[0m_is_categorical\u001b[0m \u001b[0;34m=\u001b[0m \u001b[0mis_categorical_dtype\u001b[0m\u001b[0;34m(\u001b[0m\u001b[0mdata\u001b[0m\u001b[0;34m.\u001b[0m\u001b[0mdtype\u001b[0m\u001b[0;34m)\u001b[0m\u001b[0;34m\u001b[0m\u001b[0;34m\u001b[0m\u001b[0m\n\u001b[1;32m    183\u001b[0m         \u001b[0mself\u001b[0m\u001b[0;34m.\u001b[0m\u001b[0m_is_string\u001b[0m \u001b[0;34m=\u001b[0m \u001b[0misinstance\u001b[0m\u001b[0;34m(\u001b[0m\u001b[0mdata\u001b[0m\u001b[0;34m.\u001b[0m\u001b[0mdtype\u001b[0m\u001b[0;34m,\u001b[0m \u001b[0mStringDtype\u001b[0m\u001b[0;34m)\u001b[0m\u001b[0;34m\u001b[0m\u001b[0;34m\u001b[0m\u001b[0m\n",
            "\u001b[0;32m/usr/local/lib/python3.10/dist-packages/pandas/core/strings/accessor.py\u001b[0m in \u001b[0;36m_validate\u001b[0;34m(data)\u001b[0m\n\u001b[1;32m    233\u001b[0m \u001b[0;34m\u001b[0m\u001b[0m\n\u001b[1;32m    234\u001b[0m         \u001b[0;32mif\u001b[0m \u001b[0minferred_dtype\u001b[0m \u001b[0;32mnot\u001b[0m \u001b[0;32min\u001b[0m \u001b[0mallowed_types\u001b[0m\u001b[0;34m:\u001b[0m\u001b[0;34m\u001b[0m\u001b[0;34m\u001b[0m\u001b[0m\n\u001b[0;32m--> 235\u001b[0;31m             \u001b[0;32mraise\u001b[0m \u001b[0mAttributeError\u001b[0m\u001b[0;34m(\u001b[0m\u001b[0;34m\"Can only use .str accessor with string values!\"\u001b[0m\u001b[0;34m)\u001b[0m\u001b[0;34m\u001b[0m\u001b[0;34m\u001b[0m\u001b[0m\n\u001b[0m\u001b[1;32m    236\u001b[0m         \u001b[0;32mreturn\u001b[0m \u001b[0minferred_dtype\u001b[0m\u001b[0;34m\u001b[0m\u001b[0;34m\u001b[0m\u001b[0m\n\u001b[1;32m    237\u001b[0m \u001b[0;34m\u001b[0m\u001b[0m\n",
            "\u001b[0;31mAttributeError\u001b[0m: Can only use .str accessor with string values!"
          ]
        }
      ]
    },
    {
      "cell_type": "code",
      "source": [
        "#save dataframe before handling nulls\n",
        "result_df.to_csv('clean RE and raw with nulls.csv', index=False)"
      ],
      "metadata": {
        "id": "yeydj3oI_rZh"
      },
      "execution_count": null,
      "outputs": []
    },
    {
      "cell_type": "code",
      "source": [
        "#save just RE clean data before handling nulls\n",
        "#create df of just RE data but clean.\n",
        "\n",
        "REdf = result_df.drop(result_df[result_df['Lead Status'] == 'None'].index)\n",
        "REdf.to_csv('clean RE df with nulls.csv', index=False)"
      ],
      "metadata": {
        "id": "HE6BmMw83FJV"
      },
      "execution_count": null,
      "outputs": []
    }
  ]
}