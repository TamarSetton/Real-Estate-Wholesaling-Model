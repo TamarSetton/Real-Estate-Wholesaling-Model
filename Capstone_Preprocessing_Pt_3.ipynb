{
  "cells": [
    {
      "cell_type": "code",
      "execution_count": null,
      "metadata": {
        "id": "_fvpd1vwQW3h"
      },
      "outputs": [],
      "source": [
        "import numpy as np\n",
        "import pandas as pd\n",
        "import seaborn as sns\n",
        "import matplotlib.pyplot as plt\n",
        "from scipy.stats import chi2_contingency\n"
      ]
    },
    {
      "cell_type": "markdown",
      "source": [
        "# Cleaning and some statistcs of combined data"
      ],
      "metadata": {
        "id": "rfQ5us7QpqiK"
      }
    },
    {
      "cell_type": "code",
      "execution_count": null,
      "metadata": {
        "colab": {
          "base_uri": "https://localhost:8080/"
        },
        "id": "QqfXzes0QKgo",
        "outputId": "8a4639d3-be1a-4b39-fbc2-8298fd22fc4a"
      },
      "outputs": [
        {
          "output_type": "stream",
          "name": "stderr",
          "text": [
            "<ipython-input-2-83254c1cecbf>:1: DtypeWarning: Columns (3,4,6,7,8,12,25,26) have mixed types. Specify dtype option on import or set low_memory=False.\n",
            "  df = pd.read_csv('clean RE and raw with nulls.csv')\n"
          ]
        }
      ],
      "source": [
        " df = pd.read_csv('clean RE and raw with nulls.csv')"
      ]
    },
    {
      "cell_type": "code",
      "execution_count": null,
      "metadata": {
        "id": "geHoy-rtRuVh",
        "colab": {
          "base_uri": "https://localhost:8080/"
        },
        "outputId": "81c7abb2-c070-4a2f-cca4-67d02e96900d"
      },
      "outputs": [
        {
          "output_type": "execute_result",
          "data": {
            "text/plain": [
              "Index(['First Name', 'Last Name', 'Phone Area Code', 'Phone Number',\n",
              "       'Lead Status', 'score', 'Lead Quality', 'Lead Source', 'Campaign Name',\n",
              "       'Property Street Address', 'Property City', 'Property State',\n",
              "       'Property Zip', 'Mailing Street Address', 'Mailing City',\n",
              "       'Mailing State', 'Mailing Zip', 'Bedroom', 'Bathroom', 'Apporx Sqft',\n",
              "       'Lot Size Sqft', 'Effective Year Built', 'House Type',\n",
              "       'Tax Assessed Value', 'Last Sold Price', 'Lead Created Date',\n",
              "       'download_date', 'same_address'],\n",
              "      dtype='object')"
            ]
          },
          "metadata": {},
          "execution_count": 3
        }
      ],
      "source": [
        "df.columns"
      ]
    },
    {
      "cell_type": "code",
      "execution_count": null,
      "metadata": {
        "id": "rs_ZknjeQWWe"
      },
      "outputs": [],
      "source": [
        "#remove all values where bathroom is greater than 54 to remove outliers\n",
        "df.loc[df['Bathroom'] > 54, 'Bathroom'] = np.nan"
      ]
    },
    {
      "cell_type": "code",
      "execution_count": null,
      "metadata": {
        "id": "3M5dAf_qS1Vk"
      },
      "outputs": [],
      "source": [
        "#remove all values where bedroom is greater than 65\n",
        "df.loc[df['Bedroom'] > 65, 'Bedroom'] = np.nan"
      ]
    },
    {
      "cell_type": "code",
      "execution_count": null,
      "metadata": {
        "id": "Vd-_fHMfS-VA"
      },
      "outputs": [],
      "source": [
        "#rename cities so no duplicates with differents spacing"
      ]
    },
    {
      "cell_type": "code",
      "execution_count": null,
      "metadata": {
        "id": "TB_F7Wobe9rr",
        "colab": {
          "base_uri": "https://localhost:8080/"
        },
        "outputId": "0040c483-94ef-4879-fb65-7f9ad6281206"
      },
      "outputs": [
        {
          "output_type": "stream",
          "name": "stdout",
          "text": [
            "Requirement already satisfied: pandas in /usr/local/lib/python3.10/dist-packages (2.0.3)\n",
            "Collecting fuzzywuzzy\n",
            "  Downloading fuzzywuzzy-0.18.0-py2.py3-none-any.whl (18 kB)\n",
            "Requirement already satisfied: python-dateutil>=2.8.2 in /usr/local/lib/python3.10/dist-packages (from pandas) (2.8.2)\n",
            "Requirement already satisfied: pytz>=2020.1 in /usr/local/lib/python3.10/dist-packages (from pandas) (2023.4)\n",
            "Requirement already satisfied: tzdata>=2022.1 in /usr/local/lib/python3.10/dist-packages (from pandas) (2024.1)\n",
            "Requirement already satisfied: numpy>=1.21.0 in /usr/local/lib/python3.10/dist-packages (from pandas) (1.25.2)\n",
            "Requirement already satisfied: six>=1.5 in /usr/local/lib/python3.10/dist-packages (from python-dateutil>=2.8.2->pandas) (1.16.0)\n",
            "Installing collected packages: fuzzywuzzy\n",
            "Successfully installed fuzzywuzzy-0.18.0\n"
          ]
        },
        {
          "output_type": "stream",
          "name": "stderr",
          "text": [
            "/usr/local/lib/python3.10/dist-packages/fuzzywuzzy/fuzz.py:11: UserWarning: Using slow pure-python SequenceMatcher. Install python-Levenshtein to remove this warning\n",
            "  warnings.warn('Using slow pure-python SequenceMatcher. Install python-Levenshtein to remove this warning')\n"
          ]
        }
      ],
      "source": [
        "!pip install pandas fuzzywuzzy\n",
        "from fuzzywuzzy import fuzz\n",
        "from fuzzywuzzy import process"
      ]
    },
    {
      "cell_type": "code",
      "execution_count": null,
      "metadata": {
        "collapsed": true,
        "id": "pURgXuP-fedm"
      },
      "outputs": [],
      "source": [
        "# Function to find similar city names and standardize them\n",
        "def standardize_city_names(df, column, threshold=90):\n",
        "    unique_cities = df[column].unique()\n",
        "\n",
        "    # Ensure all elements are strings\n",
        "    unique_cities = [str(city) for city in unique_cities]\n",
        "\n",
        "    # Dictionary to map similar city names to a representative name\n",
        "    city_mapping = {}\n",
        "\n",
        "    for city in unique_cities:\n",
        "        matches = process.extract(city, unique_cities, scorer=fuzz.token_sort_ratio)\n",
        "        representative = city  # Choose the first encountered name as the representative\n",
        "        for match in matches:\n",
        "            if match[1] >= threshold:\n",
        "                city_mapping[match[0]] = representative\n",
        "\n",
        "    # Update the DataFrame with standardized city names\n",
        "    df[column] = df[column].map(city_mapping)\n",
        "\n",
        "    return df"
      ]
    },
    {
      "cell_type": "code",
      "execution_count": null,
      "metadata": {
        "id": "uw6ktHoai6M-"
      },
      "outputs": [],
      "source": [
        "# Standardize city names\n",
        "df = standardize_city_names(df,'Property City', threshold=90)\n",
        "df = standardize_city_names(df,'Mailing City', threshold=90)"
      ]
    },
    {
      "cell_type": "code",
      "execution_count": null,
      "metadata": {
        "collapsed": true,
        "id": "87bx0J3KiXbl",
        "colab": {
          "base_uri": "https://localhost:8080/"
        },
        "outputId": "43046a3e-0840-4223-bd6e-cdca89ae097b"
      },
      "outputs": [
        {
          "output_type": "execute_result",
          "data": {
            "text/plain": [
              "array([' Teaneck', 'Hollywood', 'Deerfield Beach', 'Boynton Beach',\n",
              "       'Fort Lauderdale', 'Wilton Manors', 'Pompano Beach',\n",
              "       'Delray Beach', ' Tampa', 'Plantation', 'West Palm Beach',\n",
              "       ' Davenport', ' Apollo Beach', 'New Port Richey', ' Brandon',\n",
              "       'Sunrise', ' Langhorne', 'Boca Raton', ' Cape Coral',\n",
              "       'Pembroke Pines', 'Lauderdale Lakes', ' Riverview', ' Stuart',\n",
              "       'Palm Beach Gardens', ' Miami Gardens', ' Miami', ' Palmetto Bay',\n",
              "       'Davie', 'West Park', ' Port St. Lucie', 'Miramar',\n",
              "       'Lake Worth Beach', 'Dania Beach', 'Greenacres', 'Coconut Creek',\n",
              "       'Hallandale Beach', 'Tamarac', ' Aventura', ' Homestead',\n",
              "       ' Miami Springs', ' Miami Beach', ' Ferndale', ' Winter Park',\n",
              "       ' Apopka', ' Poinciana', ' Port Clinton', 'Land O Lakes',\n",
              "       'Palm Beach', 'Lauderhill', ' Plant City', 'Oakland Park',\n",
              "       ' Homosassa', ' Wimauma', 'Zephyrhills', 'Dade City',\n",
              "       ' Winston-Salem', 'Coral Springs', ' Orlando', ' Dunnellon',\n",
              "       ' Kissimmee', ' Great Barrington', ' Fernandina Beach', ' Ruskin',\n",
              "       'Jupiter', ' Atlantic Beach', ' Sun City Center', 'Port Richey',\n",
              "       ' Valley Stream', ' Plainview', ' Jensen Beach',\n",
              "       ' 11577 Big Sky Ct', 'Lake Worth', 'Loxahatchee',\n",
              "       'Lighthouse Point', 'North Palm Beach', 'Wellington',\n",
              "       ' Florida 33843', ' Lake City', 'Margate', 'Royal Palm Beach',\n",
              "       'Palm Springs', 'Lantana', 'Tequesta', ' Sebastian', ' Okeechobee',\n",
              "       ' Fort McCoy', 'Juno Beach', ' Tallahassee', ' Lehigh Acres',\n",
              "       'Hypoluxo', ' Marshall', 'Belle Glade', ' Salem', ' Rochester',\n",
              "       ' FL 33432', ' Valrico', ' Amityville', ' Antioch', ' Gibsonton',\n",
              "       ' Pasco County', ' Ocala', ' Trenton', 'Holiday', ' Venice',\n",
              "       ' St. Petersburg', ' Clearwater', ' Palm Harbor', ' Allen Park',\n",
              "       ' North Miami', 'North Lauderdale', ' Lawrenceville',\n",
              "       ' Fort Pierce', ' Vero Beach', ' Palm City', ' Lithia',\n",
              "       ' Florida City', ' Opa-locka', 'Pahokee', ' Hialeah',\n",
              "       'Southwest Ranches', ' Sebring', ' Dover', ' Cedar Key', 'Lutz',\n",
              "       'Hudson', 'Wesley Chapel', ' Seffner', ' Thonotosassa', 'Lakeland',\n",
              "       ' Temple Terrace', ' Douglasville', ' Brooksville', ' Bradenton',\n",
              "       ' Mulberry', ' Parrish', ' Frostproof', 'Riviera Beach',\n",
              "       ' Jacksonville', ' St Simons Island', ' Highland Beach',\n",
              "       ' Manhasset', nan, ' French Lick', ' Woodstock', ' Port Charlotte',\n",
              "       'Clewiston', 'Unknown', 'Pembroke Park', ' Green Lane', ' Augusta',\n",
              "       'Parkland', ' North Miami Beach', 'Weston', 'Dania', 'Cooper City',\n",
              "       'Hillsboro Beach', 'Lauderdale By The Sea', 'Hallandale',\n",
              "       'Lake Park', 'Palm Beach Shores', 'Mangonia Park', 'South Bay',\n",
              "       'Haverhill', 'Canal Point', 'Ocean Ridge', 'County Of Palm Beach',\n",
              "       'Spring Hill', 'San Antonio', 'Trinity', 'Odessa', 'Webster',\n",
              "       'Kathleen'], dtype=object)"
            ]
          },
          "metadata": {},
          "execution_count": 10
        }
      ],
      "source": [
        "df['Property City'].unique()"
      ]
    },
    {
      "cell_type": "code",
      "execution_count": null,
      "metadata": {
        "id": "UPl2FrJ0hbd0",
        "colab": {
          "base_uri": "https://localhost:8080/"
        },
        "outputId": "ef6d1ec9-7f10-4d1b-a511-1f2d36cda71f"
      },
      "outputs": [
        {
          "output_type": "execute_result",
          "data": {
            "text/plain": [
              "array(['Teaneck', 'Hollywood', nan, ..., 'Royal Oak', 'New Martinsville',\n",
              "       'Chattanooga'], dtype=object)"
            ]
          },
          "metadata": {},
          "execution_count": 11
        }
      ],
      "source": [
        "df['Mailing City'].unique()"
      ]
    },
    {
      "cell_type": "code",
      "execution_count": null,
      "metadata": {
        "id": "7T0r-_lAhn1D",
        "colab": {
          "base_uri": "https://localhost:8080/"
        },
        "outputId": "cf180a35-93c2-4a17-b391-3bbaa4e5fe47"
      },
      "outputs": [
        {
          "output_type": "execute_result",
          "data": {
            "text/plain": [
              "array(['NJ', 'FL', 'PA', 'MI', 'OH', 'NC', nan, 'MA', 'NY', 'USA', 'MO',\n",
              "       'CA', 'GA', 'IN'], dtype=object)"
            ]
          },
          "metadata": {},
          "execution_count": 12
        }
      ],
      "source": [
        "df['Property State'].unique()"
      ]
    },
    {
      "cell_type": "code",
      "execution_count": null,
      "metadata": {
        "id": "bqEaFC3uhwSv",
        "colab": {
          "base_uri": "https://localhost:8080/"
        },
        "outputId": "ac034bb4-b899-456d-f78c-ea4156b538b1"
      },
      "outputs": [
        {
          "output_type": "stream",
          "name": "stdout",
          "text": [
            "Collecting gender-guesser\n",
            "  Downloading gender_guesser-0.4.0-py2.py3-none-any.whl (379 kB)\n",
            "\u001b[?25l     \u001b[90m━━━━━━━━━━━━━━━━━━━━━━━━━━━━━━━━━━━━━━━━\u001b[0m \u001b[32m0.0/379.3 kB\u001b[0m \u001b[31m?\u001b[0m eta \u001b[36m-:--:--\u001b[0m\r\u001b[2K     \u001b[91m━━━━━━━━━━━━━━━━━━━━━━━━━━━━━━━━━━━━━━━\u001b[0m\u001b[91m╸\u001b[0m \u001b[32m378.9/379.3 kB\u001b[0m \u001b[31m11.8 MB/s\u001b[0m eta \u001b[36m0:00:01\u001b[0m\r\u001b[2K     \u001b[90m━━━━━━━━━━━━━━━━━━━━━━━━━━━━━━━━━━━━━━━━\u001b[0m \u001b[32m379.3/379.3 kB\u001b[0m \u001b[31m8.8 MB/s\u001b[0m eta \u001b[36m0:00:00\u001b[0m\n",
            "\u001b[?25hInstalling collected packages: gender-guesser\n",
            "Successfully installed gender-guesser-0.4.0\n"
          ]
        }
      ],
      "source": [
        "#Create gender column from First name\n",
        "!pip install gender-guesser\n",
        "import gender_guesser.detector as gender\n",
        "\n",
        "# Initialize the gender detector\n",
        "d = gender.Detector()\n",
        "\n",
        "# Function to predict gender based on name\n",
        "def predict_gender(name):\n",
        "  if not name or pd.isna(name):  # Check for empty or missing names\n",
        "        return 'unknown'\n",
        "  else:\n",
        "        return d.get_gender(name)\n",
        "\n",
        "# Apply the function to the 'First Name' column and create a new 'Gender' column\n",
        "df['Gender'] = df['First Name'].apply(predict_gender)\n"
      ]
    },
    {
      "cell_type": "code",
      "source": [
        "df['Gender'].unique()"
      ],
      "metadata": {
        "id": "8y6gwOtg6KCt",
        "colab": {
          "base_uri": "https://localhost:8080/"
        },
        "outputId": "e005a057-80dc-4876-bd45-b9df3658303e"
      },
      "execution_count": null,
      "outputs": [
        {
          "output_type": "execute_result",
          "data": {
            "text/plain": [
              "array(['male', 'female', 'unknown', 'mostly_female', 'mostly_male',\n",
              "       'andy'], dtype=object)"
            ]
          },
          "metadata": {},
          "execution_count": 14
        }
      ]
    },
    {
      "cell_type": "code",
      "source": [
        "df['score'].unique()"
      ],
      "metadata": {
        "id": "iK-lYaj7AIZh",
        "colab": {
          "base_uri": "https://localhost:8080/"
        },
        "outputId": "6b84e343-7c92-421a-ddcf-f6e80f7c60a0"
      },
      "execution_count": null,
      "outputs": [
        {
          "output_type": "execute_result",
          "data": {
            "text/plain": [
              "array([ 1,  0,  3,  6, -1,  5,  2,  4,  7, -3])"
            ]
          },
          "metadata": {},
          "execution_count": 15
        }
      ]
    },
    {
      "cell_type": "code",
      "source": [
        "df['Lead at all'] = df['score'].apply(lambda x: 1 if x >= -1 else 0 if x < -1 else 'NA')"
      ],
      "metadata": {
        "id": "pzkKkAdL_7mD"
      },
      "execution_count": null,
      "outputs": []
    },
    {
      "cell_type": "code",
      "source": [
        "columns_to_fill = ['Phone Area Code', 'Phone Number','Lead Status', 'Lead Quality', 'Lead Source','Campaign Name',\n",
        "                   'Lead Created Date', 'download_date']\n",
        "\n",
        "# Fill null values with 'None' in specified columns\n",
        "df[columns_to_fill] = df[columns_to_fill].fillna('None')"
      ],
      "metadata": {
        "id": "lAwSiDLcvoT1"
      },
      "execution_count": null,
      "outputs": []
    },
    {
      "cell_type": "code",
      "source": [
        "#save df to computer'\n",
        "df.to_csv('Clean RE and raw with nullsX.csv')\n"
      ],
      "metadata": {
        "id": "7knRQVDdugZI"
      },
      "execution_count": null,
      "outputs": []
    },
    {
      "cell_type": "code",
      "source": [
        "from scipy.stats import chi2_contingency\n",
        "\n",
        "# Create a contingency table\n",
        "contingency_table = pd.crosstab(df['Gender'], df['Lead at all'])\n",
        "print(\"\\nContingency Table:\")\n",
        "print(contingency_table)\n",
        "\n",
        "# Perform the Chi-Squared test\n",
        "chi2, p, dof, expected = chi2_contingency(contingency_table)\n",
        "\n",
        "# Print the results\n",
        "print(f\"\\nChi-Squared Statistic: {chi2}\")\n",
        "print(f\"p-value: {p}\")\n",
        "print(f\"Degrees of Freedom: {dof}\")\n",
        "print(\"\\nExpected Frequencies:\")\n",
        "print(pd.DataFrame(expected, index=contingency_table.index, columns=contingency_table.columns))\n",
        "\n",
        "# Interpret the p-value\n",
        "alpha = 0.05\n",
        "if p <= alpha:\n",
        "    print(\"\\nThere is a significant association between gender and lead quality (reject H0).\")\n",
        "else:\n",
        "    print(\"\\nThere is no significant association between gender and lead quality (fail to reject H0).\")\n"
      ],
      "metadata": {
        "id": "OJe3b9fCARR5",
        "colab": {
          "base_uri": "https://localhost:8080/"
        },
        "outputId": "f9cf6ef5-8361-4875-dda7-a583c8379be5"
      },
      "execution_count": null,
      "outputs": [
        {
          "output_type": "stream",
          "name": "stdout",
          "text": [
            "\n",
            "Contingency Table:\n",
            "Lead Quality   Bad  Good   None   Ok\n",
            "Gender                              \n",
            "andy             4     2   1067    2\n",
            "female         215    31  31054   76\n",
            "male           447    53  62310  152\n",
            "mostly_female   20     3   3167   12\n",
            "mostly_male     25     1   2292    6\n",
            "unknown        136    12  28544   42\n",
            "\n",
            "Chi-Squared Statistic: 47.3125457712263\n",
            "p-value: 3.28068275527956e-05\n",
            "Degrees of Freedom: 15\n",
            "\n",
            "Expected Frequencies:\n",
            "Lead Quality          Bad       Good          None          Ok\n",
            "Gender                                                        \n",
            "andy             7.021701   0.845589   1064.728587    2.404124\n",
            "female         204.942216  24.680172  31076.208494   70.169118\n",
            "male           411.256113  49.525530  62360.410479  140.807878\n",
            "mostly_female   20.914870   2.518674   3171.405520    7.160936\n",
            "mostly_male     15.179937   1.828044   2301.794637    5.197381\n",
            "unknown        187.685162  22.601991  28459.452284   64.260563\n",
            "\n",
            "There is a significant association between gender and lead quality (reject H0).\n"
          ]
        }
      ]
    },
    {
      "cell_type": "code",
      "source": [
        "df_expected = pd.DataFrame(expected, index=contingency_table.index, columns=contingency_table.columns)\n",
        "\n",
        "# Plot the observed frequencies\n",
        "plt.figure(figsize=(14, 6))\n",
        "\n",
        "plt.subplot(1, 2, 1)\n",
        "sns.heatmap(contingency_table, annot=True, fmt=\"d\", cmap=\"YlGnBu\")\n",
        "plt.title(\"Observed Frequencies\")\n",
        "plt.xlabel(\"Gender\")\n",
        "plt.ylabel(\"Lead at all\")\n",
        "\n",
        "# Plot the expected frequencies\n",
        "plt.subplot(1, 2, 2)\n",
        "sns.heatmap(df_expected, annot=True, fmt=\".2f\", cmap=\"YlGnBu\")\n",
        "plt.title(\"Expected Frequencies\")\n",
        "plt.xlabel(\"Gender\")\n",
        "plt.ylabel(\"Lead at all\")\n",
        "\n",
        "# Display the plots\n",
        "plt.tight_layout()\n",
        "plt.show()\n",
        "\n",
        "# Print chi-square test results\n",
        "print(f\"Chi2: {chi2}\")\n",
        "print(f\"P-value: {p}\")\n",
        "print(f\"Degrees of Freedom: {dof}\")"
      ],
      "metadata": {
        "id": "ilypNZdHEbV4",
        "colab": {
          "base_uri": "https://localhost:8080/",
          "height": 144
        },
        "outputId": "142ea458-6ed5-48e9-d427-2d6730be0d7f"
      },
      "execution_count": null,
      "outputs": [
        {
          "output_type": "error",
          "ename": "AttributeError",
          "evalue": "'numpy.ndarray' object has no attribute 'count'",
          "traceback": [
            "\u001b[0;31m---------------------------------------------------------------------------\u001b[0m",
            "\u001b[0;31mAttributeError\u001b[0m                            Traceback (most recent call last)",
            "\u001b[0;32m<ipython-input-20-051c1f22c5dd>\u001b[0m in \u001b[0;36m<cell line: 1>\u001b[0;34m()\u001b[0m\n\u001b[0;32m----> 1\u001b[0;31m \u001b[0mdf\u001b[0m\u001b[0;34m[\u001b[0m\u001b[0;34m'Phone Area Code'\u001b[0m\u001b[0;34m]\u001b[0m\u001b[0;34m.\u001b[0m\u001b[0munique\u001b[0m\u001b[0;34m(\u001b[0m\u001b[0;34m)\u001b[0m\u001b[0;34m.\u001b[0m\u001b[0mcount\u001b[0m\u001b[0;34m(\u001b[0m\u001b[0;34m)\u001b[0m\u001b[0;34m\u001b[0m\u001b[0;34m\u001b[0m\u001b[0m\n\u001b[0m",
            "\u001b[0;31mAttributeError\u001b[0m: 'numpy.ndarray' object has no attribute 'count'"
          ]
        }
      ]
    },
    {
      "cell_type": "code",
      "source": [
        "df = pd.read_csv('both clean 2.csv')"
      ],
      "metadata": {
        "colab": {
          "base_uri": "https://localhost:8080/"
        },
        "id": "fDarHO0EZLYX",
        "outputId": "027c81a9-b6d7-46e0-e9f5-3f3bbc12d151"
      },
      "execution_count": null,
      "outputs": [
        {
          "output_type": "stream",
          "name": "stderr",
          "text": [
            "<ipython-input-2-4534fa22e4f9>:1: DtypeWarning: Columns (4,5,7,8,9,13,26,27) have mixed types. Specify dtype option on import or set low_memory=False.\n",
            "  df = pd.read_csv('both clean 2.csv')\n"
          ]
        }
      ]
    },
    {
      "cell_type": "code",
      "source": [
        "df.columns"
      ],
      "metadata": {
        "colab": {
          "base_uri": "https://localhost:8080/"
        },
        "id": "jE-acw1fk93_",
        "outputId": "c4894a03-b221-4b41-f027-2564d577e0ea"
      },
      "execution_count": null,
      "outputs": [
        {
          "output_type": "execute_result",
          "data": {
            "text/plain": [
              "Index(['Unnamed: 0', 'First Name', 'Last Name', 'Phone Area Code',\n",
              "       'Phone Number', 'Lead Status', 'score', 'Lead Quality', 'Lead Source',\n",
              "       'Campaign Name', 'Property Street Address', 'Property City',\n",
              "       'Property State', 'Property Zip', 'Mailing Street Address',\n",
              "       'Mailing City', 'Mailing State', 'Mailing Zip', 'Bedroom', 'Bathroom',\n",
              "       'Apporx Sqft', 'Lot Size Sqft', 'Effective Year Built', 'House Type',\n",
              "       'Tax Assessed Value', 'Last Sold Price', 'Lead Created Date',\n",
              "       'download_date', 'same_address', 'Gender', 'Lead at all'],\n",
              "      dtype='object')"
            ]
          },
          "metadata": {},
          "execution_count": 5
        }
      ]
    },
    {
      "cell_type": "code",
      "source": [
        "mean_tax_lead = df[df['Lead at all'] == 1]['Tax Assessed Value'].mean()\n",
        "mean_tax_nolead = df[df['Lead at all'] == 0]['Tax Assessed Value'].mean()\n",
        "\n",
        "print(f\"Mean tax assessed value for leads: {mean_tax_lead:.2f}\")\n",
        "print(f\"Mean tax assessed value for non-leads: {mean_tax_nolead:.2f}\")"
      ],
      "metadata": {
        "colab": {
          "base_uri": "https://localhost:8080/"
        },
        "id": "Zf_QYB26kiZR",
        "outputId": "a1999cbb-d897-4951-9144-89ccfafbcf72"
      },
      "execution_count": null,
      "outputs": [
        {
          "output_type": "stream",
          "name": "stdout",
          "text": [
            "Mean tax assessed value for leads: 255017.87\n",
            "Mean tax assessed value for non-leads: 131073.74\n"
          ]
        }
      ]
    },
    {
      "cell_type": "code",
      "source": [
        "mean_sold_lead = df[df['Lead at all'] == 1]['Last Sold Price'].mean()\n",
        "mean_sold_nolead = df[df['Lead at all'] == 0]['Last Sold Price'].mean()\n",
        "\n",
        "print(f\"Mean last sold value for leads: {mean_sold_lead:.2f}\")\n",
        "print(f\"Mean last sold value for non-leads: {mean_sold_nolead:.2f}\")"
      ],
      "metadata": {
        "colab": {
          "base_uri": "https://localhost:8080/"
        },
        "id": "gM5Y43Bqm4X8",
        "outputId": "19d6bf53-f99b-432e-d3f4-6b61a884a78a"
      },
      "execution_count": null,
      "outputs": [
        {
          "output_type": "stream",
          "name": "stdout",
          "text": [
            "Mean last sold value for leads: 225114.33\n",
            "Mean last sold value for non-leads: 481504.74\n"
          ]
        }
      ]
    },
    {
      "cell_type": "code",
      "source": [
        "# Create a contingency table\n",
        "contingency_table = pd.crosstab(df['House Type'], df['Lead at all'])\n",
        "print(\"\\nContingency Table:\")\n",
        "print(contingency_table)\n",
        "\n",
        "# Perform the Chi-Squared test\n",
        "chi2, p, dof, expected = chi2_contingency(contingency_table)\n",
        "\n",
        "# Print the results\n",
        "print(f\"\\nChi-Squared Statistic: {chi2}\")\n",
        "print(f\"p-value: {p}\")\n",
        "print(f\"Degrees of Freedom: {dof}\")\n",
        "print(\"\\nExpected Frequencies:\")\n",
        "print(pd.DataFrame(expected, index=contingency_table.index, columns=contingency_table.columns))\n",
        "\n",
        "# Interpret the p-value\n",
        "alpha = 0.05\n",
        "if p <= alpha:\n",
        "    print(\"\\nThere is a significant association between house type and lead quality (reject H0).\")\n",
        "else:\n",
        "    print(\"\\nThere is no significant association between house type and lead quality (fail to reject H0).\")\n"
      ],
      "metadata": {
        "colab": {
          "base_uri": "https://localhost:8080/"
        },
        "id": "gqytJ3DlrBEN",
        "outputId": "e2163d61-dcd4-4747-ce0e-85b1b06342db"
      },
      "execution_count": null,
      "outputs": [
        {
          "output_type": "stream",
          "name": "stdout",
          "text": [
            "\n",
            "Contingency Table:\n",
            "Lead at all                                 0    1\n",
            "House Type                                        \n",
            "Commercial                                  0    5\n",
            "Condominium (Residential)                9232    0\n",
            "Duplex (2 units, any combination)        1701    1\n",
            "Industrial                                  0    2\n",
            "Multi-Unit Professional                     0    3\n",
            "Multi-Unit/Multi-Family Residential      3986   95\n",
            "Quadruplex (4 units, any combination)     195    0\n",
            "Residential                                 1  747\n",
            "Single Family Residential              112858    5\n",
            "Townhouse (Residential)                   198    0\n",
            "Triplex (3 units, any combination)        263    0\n",
            "Vacant Land                                 0    9\n",
            "\n",
            "Chi-Squared Statistic: 114318.78736944296\n",
            "p-value: 0.0\n",
            "Degrees of Freedom: 11\n",
            "\n",
            "Expected Frequencies:\n",
            "Lead at all                                        0           1\n",
            "House Type                                                      \n",
            "Commercial                                  4.966474    0.033526\n",
            "Condominium (Residential)                9170.096813   61.903187\n",
            "Duplex (2 units, any combination)        1690.587606   11.412394\n",
            "Industrial                                  1.986589    0.013411\n",
            "Multi-Unit Professional                     2.979884    0.020116\n",
            "Multi-Unit/Multi-Family Residential      4053.635734   27.364266\n",
            "Quadruplex (4 units, any combination)     193.692470    1.307530\n",
            "Residential                               742.984447    5.015553\n",
            "Single Family Residential              112106.221468  756.778532\n",
            "Townhouse (Residential)                   196.672354    1.327646\n",
            "Triplex (3 units, any combination)        261.236510    1.763490\n",
            "Vacant Land                                 8.939652    0.060348\n",
            "\n",
            "There is a significant association between house type and lead quality (reject H0).\n"
          ]
        }
      ]
    }
  ],
  "metadata": {
    "colab": {
      "provenance": []
    },
    "kernelspec": {
      "display_name": "Python 3",
      "name": "python3"
    },
    "language_info": {
      "name": "python"
    }
  },
  "nbformat": 4,
  "nbformat_minor": 0
}